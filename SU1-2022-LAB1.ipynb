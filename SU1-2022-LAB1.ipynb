{
 "cells": [
  {
   "cell_type": "markdown",
   "metadata": {},
   "source": [
    "Sveučilište u Zagrebu  \n",
    "Fakultet elektrotehnike i računarstva  \n",
    "  \n",
    "## Strojno učenje 1 2022/2023  \n",
    "http://www.fer.unizg.hr/predmet/struce1"
   ]
  },
  {
   "cell_type": "markdown",
   "metadata": {},
   "source": [
    "------------------------------\n",
    "\n",
    "### Prva laboratorijska vježba: Linearna regresija\n",
    "\n",
    "*Verzija: 1.0\n",
    "Zadnji put ažurirano: 1. 10. 2021.*\n",
    "\n",
    "(c) 2015-2022 Jan Šnajder, Domagoj Alagić \n",
    "\n",
    "Rok za predaju: **23. listopada 2022. u 23:59h**\n",
    "\n",
    "------------------------------"
   ]
  },
  {
   "cell_type": "markdown",
   "metadata": {},
   "source": [
    "### Upute\n",
    "\n",
    "Prva laboratorijska vježba sastoji se od sedam zadataka. U nastavku slijedite upute navedene u ćelijama s tekstom. Rješavanje vježbe svodi se na **dopunjavanje ove bilježnice**: umetanja ćelije ili više njih **ispod** teksta zadatka, pisanja odgovarajućeg kôda te evaluiranja ćelija. \n",
    "\n",
    "Osigurajte da u potpunosti **razumijete** kôd koji ste napisali. Kod predaje vježbe, morate biti u stanju na zahtjev asistenta (ili demonstratora) preinačiti i ponovno evaluirati Vaš kôd. Nadalje, morate razumjeti teorijske osnove onoga što radite, u okvirima onoga što smo obradili na predavanju. Ispod nekih zadataka možete naći i pitanja koja služe kao smjernice za bolje razumijevanje gradiva (**nemojte pisati** odgovore na pitanja u bilježnicu). Stoga se nemojte ograničiti samo na to da riješite zadatak, nego slobodno eksperimentirajte. To upravo i jest svrha ovih vježbi.\n",
    "\n",
    "Vježbe trebate raditi **samostalno**. Možete se konzultirati s drugima o načelnom načinu rješavanja, ali u konačnici morate sami odraditi vježbu. U protivnome vježba nema smisla."
   ]
  },
  {
   "cell_type": "code",
   "execution_count": 324,
   "metadata": {},
   "outputs": [
    {
     "name": "stdout",
     "output_type": "stream",
     "text": [
      "%pylab is deprecated, use %matplotlib inline and import the required libraries.\n",
      "Populating the interactive namespace from numpy and matplotlib\n"
     ]
    }
   ],
   "source": [
    "# Učitaj osnovne biblioteke...\n",
    "import numpy as np\n",
    "import sklearn\n",
    "import matplotlib.pyplot as plt\n",
    "%pylab inline"
   ]
  },
  {
   "cell_type": "markdown",
   "metadata": {},
   "source": [
    "### 1. Jednostavna regresija"
   ]
  },
  {
   "cell_type": "markdown",
   "metadata": {},
   "source": [
    "Zadan je skup primjera $\\mathcal{D}=\\{(x^{(i)},y^{(i)})\\}_{i=1}^4 = \\{(0,4),(1,1),(2,2),(4,5)\\}$. Primjere predstavite matricom $\\mathbf{X}$ dimenzija $N\\times n$ (u ovom slučaju $4\\times 1$) i vektorom oznaka $\\textbf{y}$, dimenzija $N\\times 1$ (u ovom slučaju $4\\times 1$), na sljedeći način:\n"
   ]
  },
  {
   "cell_type": "code",
   "execution_count": 325,
   "metadata": {},
   "outputs": [],
   "source": [
    "X = np.array([[0],[1],[2],[4]])\n",
    "y = np.array([4,1,2,5])"
   ]
  },
  {
   "cell_type": "markdown",
   "metadata": {},
   "source": [
    "### (a)\n",
    "\n",
    "Proučite funkciju [`PolynomialFeatures`](http://scikit-learn.org/stable/modules/generated/sklearn.preprocessing.PolynomialFeatures.html) iz biblioteke `sklearn` i upotrijebite je za generiranje matrice dizajna $\\mathbf{\\Phi}$ koja ne koristi preslikavanje u prostor više dimenzije (samo će svakom primjeru biti dodane *dummy* jedinice; $m=n+1$).\n"
   ]
  },
  {
   "cell_type": "code",
   "execution_count": 326,
   "metadata": {},
   "outputs": [
    {
     "name": "stdout",
     "output_type": "stream",
     "text": [
      "[[1. 0.]\n",
      " [1. 1.]\n",
      " [1. 2.]\n",
      " [1. 4.]]\n"
     ]
    }
   ],
   "source": [
    "from sklearn.preprocessing import PolynomialFeatures\n",
    "# Vaš kôd ovdje\n",
    "poly = PolynomialFeatures(1)\n",
    "fi = poly.fit_transform(X)\n",
    "print(fi)"
   ]
  },
  {
   "cell_type": "markdown",
   "metadata": {},
   "source": [
    "### (b)"
   ]
  },
  {
   "cell_type": "markdown",
   "metadata": {},
   "source": [
    "Upoznajte se s modulom [`linalg`](http://docs.scipy.org/doc/numpy/reference/routines.linalg.html). Izračunajte težine $\\mathbf{w}$ modela linearne regresije kao $\\mathbf{w}=(\\mathbf{\\Phi}^\\intercal\\mathbf{\\Phi})^{-1}\\mathbf{\\Phi}^\\intercal\\mathbf{y}$. Zatim se uvjerite da isti rezultat možete dobiti izračunom pseudoinverza $\\mathbf{\\Phi}^+$ matrice dizajna, tj. $\\mathbf{w}=\\mathbf{\\Phi}^+\\mathbf{y}$, korištenjem funkcije [`pinv`](http://docs.scipy.org/doc/numpy/reference/generated/numpy.linalg.pinv.html)."
   ]
  },
  {
   "cell_type": "code",
   "execution_count": 327,
   "metadata": {},
   "outputs": [
    {
     "name": "stdout",
     "output_type": "stream",
     "text": [
      "[2.2        0.45714286]\n"
     ]
    }
   ],
   "source": [
    "from numpy import linalg\n",
    "# Vaš kôd ovdje\n",
    "trans = np.transpose(fi)\n",
    "pseudoinverz1 = (linalg.inv(trans @ fi)) @ trans \n",
    "pseudoinverz2 = linalg.pinv(fi)\n",
    "w = pseudoinverz1 @ y\n",
    "print(w)"
   ]
  },
  {
   "cell_type": "markdown",
   "metadata": {},
   "source": [
    "Radi jasnoće, u nastavku je vektor $\\mathbf{x}$ s dodanom *dummy* jedinicom $x_0=1$ označen kao $\\tilde{\\mathbf{x}}$."
   ]
  },
  {
   "cell_type": "markdown",
   "metadata": {},
   "source": [
    "### (c)"
   ]
  },
  {
   "cell_type": "markdown",
   "metadata": {},
   "source": [
    "Prikažite primjere iz $\\mathcal{D}$ i funkciju $h(\\tilde{\\mathbf{x}})=\\mathbf{w}^\\intercal\\tilde{\\mathbf{x}}$. Izračunajte pogrešku učenja prema izrazu $E(h|\\mathcal{D})=\\frac{1}{2}\\sum_{i=1}^N(\\tilde{\\mathbf{y}}^{(i)} - h(\\tilde{\\mathbf{x}}^{(i)}))^2$. Možete koristiti funkciju srednje kvadratne pogreške [`mean_squared_error`]( http://scikit-learn.org/stable/modules/generated/sklearn.metrics.mean_squared_error.html) iz modula [`sklearn.metrics`](http://scikit-learn.org/stable/modules/classes.html#module-sklearn.metrics).\n",
    "\n",
    "**Q:** Gore definirana funkcija pogreške $E(h|\\mathcal{D})$ i funkcija srednje kvadratne pogreške nisu posve identične. U čemu je razlika? Koja je \"realnija\"?"
   ]
  },
  {
   "cell_type": "code",
   "execution_count": 328,
   "metadata": {},
   "outputs": [
    {
     "name": "stdout",
     "output_type": "stream",
     "text": [
      "[2.2        2.65714286 3.11428571 4.02857143]\n",
      "2.042857142857143\n"
     ]
    }
   ],
   "source": [
    "from sklearn.metrics import mean_squared_error\n",
    "# Vaš kôd ovdje\n",
    "h = np.dot(fi, w)\n",
    "print(h)\n",
    "error = mean_squared_error(y, h)\n",
    "print(error)"
   ]
  },
  {
   "cell_type": "markdown",
   "metadata": {},
   "source": [
    "### (d)"
   ]
  },
  {
   "cell_type": "markdown",
   "metadata": {},
   "source": [
    "Uvjerite se da za primjere iz $\\mathcal{D}$ težine $\\mathbf{w}$ ne možemo naći rješavanjem sustava $\\mathbf{w}=\\mathbf{\\Phi}^{-1}\\mathbf{y}$, već da nam doista treba pseudoinverz.\n",
    "\n",
    "**Q:** Zašto je to slučaj? Bi li se problem mogao riješiti preslikavanjem primjera u višu dimenziju? Ako da, bi li to uvijek funkcioniralo, neovisno o skupu primjera $\\mathcal{D}$? Pokažite na primjeru."
   ]
  },
  {
   "cell_type": "code",
   "execution_count": 329,
   "metadata": {},
   "outputs": [
    {
     "name": "stdout",
     "output_type": "stream",
     "text": [
      "w ne možemo pronaći na ovaj način, fi nema inverz\n"
     ]
    }
   ],
   "source": [
    "# Vaš kôd ovdje\n",
    "try:\n",
    "    w = np.dot(np.linalg.inv(fi), y)\n",
    "except:\n",
    "    print(\"w ne možemo pronaći na ovaj način, fi nema inverz\")"
   ]
  },
  {
   "cell_type": "markdown",
   "metadata": {},
   "source": [
    "### (e) "
   ]
  },
  {
   "cell_type": "markdown",
   "metadata": {},
   "source": [
    "Proučite klasu [`LinearRegression`](http://scikit-learn.org/stable/modules/generated/sklearn.linear_model.LinearRegression.html) iz modula [`sklearn.linear_model`](http://scikit-learn.org/stable/modules/classes.html#module-sklearn.linear_model). Provjerite jesu li težine koje izračunava ta funkcija (dostupne pomoću atributa `coef_` i `intercept_`) jednake onima koje ste izračunali gore. Ako nisu, prilagodite kôd tako da jest.\n",
    "\n",
    "**NB:** Obratite pozornost na to kako klase [`LinearRegression`](http://scikit-learn.org/stable/modules/generated/sklearn.linear_model.LinearRegression.html) i [`PolynomialFeatures`](http://scikit-learn.org/stable/modules/generated/sklearn.preprocessing.PolynomialFeatures.html) koriste pomak i osigurajte da ga ne dodajete više puta.\n",
    "\n",
    "Izračunajte predikcije modela (metoda `predict`) i uvjerite se da je pogreška učenja identična onoj koju ste ranije izračunali."
   ]
  },
  {
   "cell_type": "code",
   "execution_count": 330,
   "metadata": {},
   "outputs": [
    {
     "name": "stdout",
     "output_type": "stream",
     "text": [
      "[2.2        2.65714286 3.11428571 4.02857143]\n",
      "2.042857142857143\n"
     ]
    }
   ],
   "source": [
    "from sklearn.linear_model import LinearRegression\n",
    "# Vaš kôd ovdje\n",
    "reg = LinearRegression().fit(fi, y)\n",
    "h2 = reg.predict(fi)\n",
    "print(h2)\n",
    "error2 = mean_squared_error(y, h2)\n",
    "print(error2)"
   ]
  },
  {
   "cell_type": "markdown",
   "metadata": {},
   "source": [
    "### 2. Polinomijalna regresija i utjecaj šuma"
   ]
  },
  {
   "cell_type": "markdown",
   "metadata": {},
   "source": [
    "### (a)\n",
    "\n",
    "Razmotrimo sada regresiju na većem broju primjera. Definirajte funkciju `make_labels(X, f, noise=0)` koja uzima matricu neoznačenih primjera $\\mathbf{X}_{N\\times n}$ te generira vektor njihovih oznaka $\\mathbf{y}_{N\\times 1}$. Oznake se generiraju kao $y^{(i)} = f(x^{(i)})+\\mathcal{N}(0,\\sigma^2)$, gdje je $f:\\mathbb{R}^n\\to\\mathbb{R}$ stvarna funkcija koja je generirala podatke (koja nam je u stvarnosti nepoznata), a $\\sigma$ je standardna devijacija Gaussovog šuma, definirana parametrom `noise`. Za generiranje šuma možete koristiti funkciju [`numpy.random.normal`](https://numpy.org/doc/stable/reference/random/generated/numpy.random.normal.html). \n",
    "\n",
    "Generirajte skup za učenje od $N=50$ primjera uniformno distribuiranih u intervalu $[-5,5]$ pomoću funkcije $f(x) = 5 + x -2 x^2 -5 x^3$ uz šum  $\\sigma=200$:"
   ]
  },
  {
   "cell_type": "code",
   "execution_count": 331,
   "metadata": {},
   "outputs": [],
   "source": [
    "from numpy.random import normal\n",
    "\n",
    "def make_labels(X, f, noise=0):\n",
    "    # Vaš kôd ovdje\n",
    "    retVal = []\n",
    "    for x in X :\n",
    "        retVal.append(double(f(x) + normal(0, noise, 1)))\n",
    "    return retVal"
   ]
  },
  {
   "cell_type": "code",
   "execution_count": 332,
   "metadata": {},
   "outputs": [],
   "source": [
    "def make_instances(x1, x2, N) :\n",
    "    return np.array([np.array([x]) for x in np.linspace(x1,x2,N)])"
   ]
  },
  {
   "cell_type": "code",
   "execution_count": 333,
   "metadata": {},
   "outputs": [],
   "source": [
    "# Vaš kôd ovdje\n",
    "def f(x):\n",
    "    return 5 + x - 2 * (x**2) - 5 * (x**3)\n",
    "x = make_instances(-5, 5, 50)\n",
    "y = make_labels(x, f, 200)"
   ]
  },
  {
   "cell_type": "markdown",
   "metadata": {},
   "source": [
    "Prikažite taj skup funkcijom [`scatter`](http://matplotlib.org/api/pyplot_api.html#matplotlib.pyplot.scatter)."
   ]
  },
  {
   "cell_type": "code",
   "execution_count": 334,
   "metadata": {},
   "outputs": [
    {
     "data": {
      "text/plain": [
       "<matplotlib.legend.Legend at 0x7f268c30e790>"
      ]
     },
     "execution_count": 334,
     "metadata": {},
     "output_type": "execute_result"
    },
    {
     "data": {
      "image/png": "[encoded data removed]",
      "text/plain": [
       "<Figure size 432x288 with 1 Axes>"
      ]
     },
     "metadata": {
      "needs_background": "light"
     },
     "output_type": "display_data"
    }
   ],
   "source": [
    "# Vaš kôd ovdje\n",
    "plt.scatter(x, y, label = 'f(x) + N(0, sigma**2)')\n",
    "plt.plot(x, f(x), 'r', label = 'f(x)')\n",
    "plt.legend(loc = 'upper right')"
   ]
  },
  {
   "cell_type": "markdown",
   "metadata": {},
   "source": [
    "### (b)"
   ]
  },
  {
   "cell_type": "markdown",
   "metadata": {},
   "source": [
    "Trenirajte model polinomijalne regresije stupnja $d=3$. Na istom grafikonu prikažite naučeni model $h(\\mathbf{x})=\\mathbf{w}^\\intercal\\tilde{\\mathbf{x}}$ i primjere za učenje. Izračunajte pogrešku učenja modela."
   ]
  },
  {
   "cell_type": "code",
   "execution_count": 335,
   "metadata": {},
   "outputs": [
    {
     "name": "stdout",
     "output_type": "stream",
     "text": [
      "[ 5.12642869 26.25250215 -1.14012657 -5.75524714]\n",
      "39365.793417914596\n"
     ]
    },
    {
     "data": {
      "text/plain": [
       "<matplotlib.legend.Legend at 0x7f268c32f370>"
      ]
     },
     "execution_count": 335,
     "metadata": {},
     "output_type": "execute_result"
    },
    {
     "data": {
      "image/png": "[encoded data removed]",
      "text/plain": [
       "<Figure size 432x288 with 1 Axes>"
      ]
     },
     "metadata": {
      "needs_background": "light"
     },
     "output_type": "display_data"
    }
   ],
   "source": [
    "# Vaš kôd ovdje\n",
    "poly3 = PolynomialFeatures(3)\n",
    "fi3 = poly3.fit_transform(x)\n",
    "w3 = linalg.pinv(fi3) @ y\n",
    "h3 = np.dot(fi3, w3)\n",
    "print(w3)\n",
    "error3 = mean_squared_error(y, h3)\n",
    "print(error3)\n",
    "\n",
    "plt.scatter(x, y, label = 'primjeri za učenje')\n",
    "plt.plot(x, h3, 'r', label = 'h(x)')\n",
    "plt.legend(loc = 'upper right')"
   ]
  },
  {
   "cell_type": "markdown",
   "metadata": {},
   "source": [
    "### 3. Odabir modela"
   ]
  },
  {
   "cell_type": "markdown",
   "metadata": {},
   "source": [
    "### (a)\n",
    "\n",
    "Na skupu podataka iz zadatka 2 trenirajte pet modela linearne regresije $\\mathcal{H}_d$ različite složenosti, gdje je $d$ stupanj polinoma, $d\\in\\{1,3,5,10,20\\}$. Prikažite na istome grafikonu skup za učenje i funkcije $h_d(\\mathbf{x})$ za svih pet modela (preporučujemo koristiti `plot` unutar `for` petlje). Izračunajte pogrešku učenja svakog od modela.\n",
    "\n",
    "**Q:** Koji model ima najmanju pogrešku učenja i zašto?"
   ]
  },
  {
   "cell_type": "code",
   "execution_count": 336,
   "metadata": {},
   "outputs": [
    {
     "name": "stdout",
     "output_type": "stream",
     "text": [
      "pogreške učenja: \n",
      "[52723.31745784917, 39365.793417914596, 33337.41469668349, 25938.730327139092, 20694.569228186192]\n"
     ]
    },
    {
     "data": {
      "text/plain": [
       "<matplotlib.legend.Legend at 0x7f268c1fe7f0>"
      ]
     },
     "execution_count": 336,
     "metadata": {},
     "output_type": "execute_result"
    },
    {
     "data": {
      "image/png": "[encoded data removed]",
      "text/plain": [
       "<Figure size 432x288 with 1 Axes>"
      ]
     },
     "metadata": {
      "needs_background": "light"
     },
     "output_type": "display_data"
    }
   ],
   "source": [
    "# Vaš kôd ovdje\n",
    "d = [1, 3, 5, 10, 20]\n",
    "h = []\n",
    "error = []\n",
    "\n",
    "for i in d :\n",
    "    fi_i = PolynomialFeatures(i).fit_transform(x)\n",
    "    w_i = linalg.pinv(fi_i) @ y\n",
    "    h_i = np.dot(fi_i, w_i)\n",
    "    error_i = mean_squared_error(y, h_i)\n",
    "    h.append(h_i)\n",
    "    error.append(error_i)\n",
    "print(\"pogreške učenja: \")\n",
    "print(error)\n",
    "\n",
    "plt.scatter(x, y, label = 'primjeri za učenje')\n",
    "\n",
    "plt.plot(x, h[0], 'r', label = 'h1(x)')\n",
    "plt.plot(x, h[1], 'm', label = 'h3(x)')\n",
    "plt.plot(x, h[2], 'c', label = 'h5(x)')\n",
    "plt.plot(x, h[3], 'g', label = 'h10(x)')\n",
    "plt.plot(x, h[4], 'y', label = 'h20(x)')\n",
    "\n",
    "plt.legend(loc = 'upper right')"
   ]
  },
  {
   "cell_type": "markdown",
   "metadata": {},
   "source": [
    "### (b)"
   ]
  },
  {
   "cell_type": "markdown",
   "metadata": {},
   "source": [
    "Razdvojite skup primjera iz zadatka 2 pomoću funkcije [`model_selection.train_test_split`](https://scikit-learn.org/stable/modules/generated/sklearn.model_selection.train_test_split.html) na skup za učenja i skup za ispitivanje u omjeru 1:1. Prikažite na jednom grafikonu pogrešku učenja i ispitnu pogrešku za modele polinomijalne regresije $\\mathcal{H}_d$, sa stupnjem polinoma $d$ u rasponu $d\\in [1,2,\\ldots,20]$. Budući da kvadratna pogreška brzo raste za veće stupnjeve polinoma, umjesto da iscrtate izravno iznose pogrešaka, iscrtajte njihove logaritme.\n",
    "\n",
    "**NB:** Podjela na skupa za učenje i skup za ispitivanje mora za svih dvadeset modela biti identična.\n",
    "\n",
    "**Q:** Je li rezultat u skladu s očekivanjima? Koji biste model odabrali i zašto?\n",
    "\n",
    "**Q:** Pokrenite iscrtavanje više puta. U čemu je problem? Bi li problem bio jednako izražen kad bismo imali više primjera? Zašto?"
   ]
  },
  {
   "cell_type": "code",
   "execution_count": 337,
   "metadata": {},
   "outputs": [
    {
     "data": {
      "text/plain": [
       "<matplotlib.legend.Legend at 0x7f268c19d520>"
      ]
     },
     "execution_count": 337,
     "metadata": {},
     "output_type": "execute_result"
    },
    {
     "data": {
      "image/png": "[encoded data removed]",
      "text/plain": [
       "<Figure size 432x288 with 1 Axes>"
      ]
     },
     "metadata": {
      "needs_background": "light"
     },
     "output_type": "display_data"
    }
   ],
   "source": [
    "from sklearn.model_selection import train_test_split\n",
    "# Vaš kôd ovdje\n",
    "x_train, x_test, y_train, y_test = train_test_split(x, y, train_size = 0.5)\n",
    "d = []\n",
    "for i in range (1,21) :\n",
    "    d.append(i)\n",
    "    \n",
    "train_error = []\n",
    "test_error = []\n",
    "for i in d :\n",
    "    fi_train = PolynomialFeatures(i).fit_transform(x_train)\n",
    "    w_train = linalg.pinv(fi_train) @ y_train\n",
    "    h_train = np.dot(fi_train, w_train)\n",
    "    error_train = mean_squared_error(y_train, h_train)\n",
    "    train_error.append(np.log(error_train))\n",
    "    \n",
    "    fi_test = PolynomialFeatures(i).fit_transform(x_test)\n",
    "    h_test = np.dot(fi_test, w_train)\n",
    "    error_test = mean_squared_error(y_test, h_test)\n",
    "    test_error.append(np.log(error_test))\n",
    "    \n",
    "plt.plot(d, train_error, 'r', label = 'train error')\n",
    "plt.plot(d, test_error, 'm', label = 'test error')\n",
    "plt.legend(loc = 'upper right')"
   ]
  },
  {
   "cell_type": "markdown",
   "metadata": {},
   "source": [
    "### (c)"
   ]
  },
  {
   "cell_type": "markdown",
   "metadata": {},
   "source": [
    "Točnost modela ovisi o (1) njegovoj složenosti (stupanj $d$ polinoma), (2) broju primjera $N$, i (3) količini šuma. Kako biste to analizirali, nacrtajte grafikone pogrešaka kao u 3b, ali za različit $N\\in$ (trećina, dvije trećine, sve) i količine šuma $\\sigma\\in\\{100,200,500\\}$ (ukupno 9 grafikona). Upotrijebite funkciju [`subplots`](http://matplotlib.org/examples/pylab_examples/subplots_demo.html) kako biste pregledno posložili grafikone u tablicu $3\\times 3$. Podatci se generiraju na isti način kao u zadatku 2.\n",
    "\n",
    "**NB:** Pobrinite se da svi grafikoni budu generirani nad usporedivim skupovima podataka, na sljedeći način. Generirajte najprije svih 1000 primjera, podijelite ih na skupove za učenje i skupove za ispitivanje (dva skupa od po 500 primjera). Zatim i od skupa za učenje i od skupa za ispitivanje načinite tri različite verzije, svaka s drugačijom količinom šuma (ukupno 2x3=6 verzija podataka). Kako bi simulirali veličinu skupa podataka, od tih dobivenih 6 skupova podataka uzorkujte trećinu, dvije trećine i sve podatke. Time ste dobili 18 skupova podataka -- skup za učenje i za testiranje za svaki od devet grafova."
   ]
  },
  {
   "cell_type": "code",
   "execution_count": 338,
   "metadata": {},
   "outputs": [
    {
     "data": {
      "image/png": "[encoded data removed]",
      "text/plain": [
       "<Figure size 1080x720 with 9 Axes>"
      ]
     },
     "metadata": {
      "needs_background": "light"
     },
     "output_type": "display_data"
    }
   ],
   "source": [
    "# Vaš kôd ovdje\n",
    "\n",
    "X = make_instances(-5, 5, 1000)\n",
    "X_train, X_test = train_test_split(X, train_size = 0.5)\n",
    "sigma = [100, 200, 500]\n",
    "\n",
    "y_train = []\n",
    "y_test = []\n",
    "\n",
    "for s in sigma :\n",
    "    y_train.append(make_labels(X_train, f, s))\n",
    "    y_test.append(make_labels(X_test, f, s))\n",
    "    \n",
    "fig, axs = plt.subplots(3, 3)\n",
    "fig.set_figheight(10)\n",
    "fig.set_figwidth(15)\n",
    "\n",
    "for i in range(9):\n",
    "    train_error = []\n",
    "    test_error = []\n",
    "    index = int(500 * (i//3 + 1)/3)\n",
    "    X_train_select = X_train[0 : index]\n",
    "    X_test_select = X_test[0 : index]\n",
    "    y_train_select = []\n",
    "    y_test_select = [] \n",
    "    for a in range(3) :\n",
    "        y_train_select.append(y_train[a][0 : index])\n",
    "        y_test_select.append(y_test[a][0 : index])\n",
    "\n",
    "    for stupanj in d :\n",
    "        fi_train = PolynomialFeatures(stupanj).fit_transform(X_train_select)\n",
    "        w_train = linalg.pinv(fi_train) @ y_train_select[i % 3]\n",
    "        h_train = np.dot(fi_train, w_train)\n",
    "        error_train = mean_squared_error(y_train_select[i % 3], h_train)\n",
    "        train_error.append(np.log(error_train))\n",
    "    \n",
    "        fi_test = PolynomialFeatures(stupanj).fit_transform(X_test_select)\n",
    "        h_test = np.dot(fi_test, w_train)\n",
    "        error_test = mean_squared_error(y_test_select[i % 3], h_test)\n",
    "        test_error.append(np.log(error_test))\n",
    "    \n",
    "    axs[i//3,i%3].plot(d, train_error, 'r', label = 'train error')\n",
    "    axs[i//3,i%3].plot(d, test_error, 'm', label = 'test error')\n",
    "    axs[i//3,i%3].legend(loc = 'upper right')\n",
    "    axs[i//3,i%3].set_title('N = %d, sigma = %d' % (index, sigma[i % 3]))\n",
    "    \n",
    "    "
   ]
  },
  {
   "cell_type": "markdown",
   "metadata": {},
   "source": [
    "***Q:*** Jesu li rezultati očekivani? Obrazložite."
   ]
  },
  {
   "cell_type": "markdown",
   "metadata": {},
   "source": [
    "### 4. Regularizirana regresija"
   ]
  },
  {
   "cell_type": "markdown",
   "metadata": {},
   "source": [
    "### (a)\n",
    "\n",
    "U gornjim eksperimentima nismo koristili **regularizaciju**. Vratimo se najprije na primjer iz zadatka 1. Na primjerima iz tog zadatka izračunajte težine $\\mathbf{w}$ za polinomijalni regresijski model stupnja $d=3$ uz L2-regularizaciju (tzv. *ridge regression*), prema izrazu $\\mathbf{w}=(\\mathbf{\\Phi}^\\intercal\\mathbf{\\Phi}+\\lambda\\mathbf{I})^{-1}\\mathbf{\\Phi}^\\intercal\\mathbf{y}$. Napravite izračun težina za regularizacijske faktore $\\lambda=0$, $\\lambda=1$ i $\\lambda=10$ te usporedite dobivene težine.\n",
    "\n",
    "**Q:** Kojih je dimenzija matrica koju treba invertirati?\n",
    "\n",
    "**Q:** Po čemu se razlikuju dobivene težine i je li ta razlika očekivana? Obrazložite."
   ]
  },
  {
   "cell_type": "code",
   "execution_count": 339,
   "metadata": {},
   "outputs": [
    {
     "name": "stdout",
     "output_type": "stream",
     "text": [
      "[ 4.         -5.91666667  3.375      -0.45833333]\n",
      "[ 3.05696145 -0.69079365 -0.2831746   0.1445805 ]\n",
      "[ 2.49444184 -0.15897295 -0.13423067  0.0815601 ]\n"
     ]
    }
   ],
   "source": [
    "# Vaš kôd ovdje\n",
    "l = [0, 1, 10]\n",
    "X = np.array([[0],[1],[2],[4]])\n",
    "y = np.array([4,1,2,5])\n",
    "fi = PolynomialFeatures(3).fit_transform(X)\n",
    "fi_trans = np.transpose(fi)\n",
    "I = np.eye(4)\n",
    "I[0][0] = 0\n",
    "w = []\n",
    "for i in l :\n",
    "    pseudoinverz = linalg.inv(fi_trans @ fi + i * I) @ fi_trans\n",
    "    w.append(pseudoinverz @ y)\n",
    "for i in range (3):\n",
    "    print(w[i])"
   ]
  },
  {
   "cell_type": "markdown",
   "metadata": {},
   "source": [
    "### (b)"
   ]
  },
  {
   "cell_type": "markdown",
   "metadata": {},
   "source": [
    "Proučite klasu [`Ridge`](http://scikit-learn.org/stable/modules/generated/sklearn.linear_model.Ridge.html#sklearn.linear_model.Ridge) iz modula [`sklearn.linear_model`](http://scikit-learn.org/stable/modules/classes.html#module-sklearn.linear_model), koja implementira L2-regularizirani regresijski model. Parametar $\\alpha$ odgovara parametru $\\lambda$. Primijenite model na istim primjerima kao u prethodnom zadatku i ispišite težine $\\mathbf{w}$ (atributi `coef_` i `intercept_`). Ponovno, pripazite na pomak.\n",
    "\n",
    "**Q:** Jesu li težine identične onima iz zadatka 4a? Ako nisu, objasnite zašto je to tako i kako biste to popravili."
   ]
  },
  {
   "cell_type": "code",
   "execution_count": 340,
   "metadata": {},
   "outputs": [
    {
     "name": "stdout",
     "output_type": "stream",
     "text": [
      "[ 0.         -5.91666667  3.375      -0.45833333]\n",
      "[ 0.         -0.69079365 -0.2831746   0.1445805 ]\n",
      "[ 0.         -0.15897295 -0.13423067  0.0815601 ]\n"
     ]
    }
   ],
   "source": [
    "from sklearn.linear_model import Ridge\n",
    "# Vaš kôd ovdje\n",
    "wL2 = []\n",
    "for i in l:\n",
    "    wL2.append(Ridge(i).fit(fi, y).coef_)\n",
    "    \n",
    "for array in wL2:\n",
    "    print(array)"
   ]
  },
  {
   "cell_type": "markdown",
   "metadata": {},
   "source": [
    "### (c)\n",
    "\n",
    "Vratimo se na slučaj $N=50$ slučajno generiranih primjera iz zadatka 2. Trenirajte modele polinomijalne regresije $\\mathcal{H}_{\\lambda,d}$ za $\\lambda\\in\\{0,100\\}$ i $d\\in\\{2,10\\}$ (ukupno četiri modela). Skicirajte pripadne funkcije $h(\\mathbf{x})$ i primjere (na jednom grafikonu; preporučujemo koristiti `plot` unutar `for` petlje).\n",
    "\n",
    "**Q:** Jesu li rezultati očekivani? Obrazložite."
   ]
  },
  {
   "cell_type": "code",
   "execution_count": 341,
   "metadata": {},
   "outputs": [
    {
     "data": {
      "text/plain": [
       "<matplotlib.legend.Legend at 0x7f268bd02c40>"
      ]
     },
     "execution_count": 341,
     "metadata": {},
     "output_type": "execute_result"
    },
    {
     "data": {
      "image/png": "[encoded data removed]",
      "text/plain": [
       "<Figure size 432x288 with 1 Axes>"
      ]
     },
     "metadata": {
      "needs_background": "light"
     },
     "output_type": "display_data"
    }
   ],
   "source": [
    "# Vaš kôd ovdje\n",
    "X = make_instances(-5, 5, 50)\n",
    "y = make_labels(x, f, 200)\n",
    "alpha = [0, 100]\n",
    "d = [2, 10]\n",
    "plt.scatter(x, y, label = 'f(x) + N(0, sigma**2)')\n",
    "for a in alpha:\n",
    "    for stupanj in d:\n",
    "        fi = PolynomialFeatures(stupanj).fit_transform(X)\n",
    "        wL = Ridge(a).fit(fi, y).coef_\n",
    "        h = np.dot(fi, wL)\n",
    "        plt.plot(X, h, label = 'h(x; alpha = %d; d = %d)' % (a, stupanj))\n",
    "plt.legend(loc = 'best')\n"
   ]
  },
  {
   "cell_type": "markdown",
   "metadata": {},
   "source": [
    "### (d)\n",
    "\n",
    "Kao u zadataku 3b, razdvojite primjere na skup za učenje i skup za ispitivanje u omjeru 1:1. Prikažite krivulje logaritama pogreške učenja i ispitne pogreške u ovisnosti za model $\\mathcal{H}_{d=10,\\lambda}$, podešavajući faktor regularizacije $\\lambda$ u rasponu $\\lambda\\in\\{0,1,\\dots,50\\}$.\n",
    "\n",
    "**Q:** Kojoj strani na grafikonu odgovara područje prenaučenosti, a kojoj podnaučenosti? Zašto?\n",
    "\n",
    "**Q:** Koju biste vrijednosti za $\\lambda$ izabrali na temelju ovih grafikona i zašto?\n"
   ]
  },
  {
   "cell_type": "code",
   "execution_count": 361,
   "metadata": {},
   "outputs": [
    {
     "data": {
      "text/plain": [
       "<matplotlib.legend.Legend at 0x7f268b7146a0>"
      ]
     },
     "execution_count": 361,
     "metadata": {},
     "output_type": "execute_result"
    },
    {
     "data": {
      "image/png": "[encoded data removed]",
      "text/plain": [
       "<Figure size 432x288 with 1 Axes>"
      ]
     },
     "metadata": {
      "needs_background": "light"
     },
     "output_type": "display_data"
    }
   ],
   "source": [
    "# Vaš kôd ovdje\n",
    "x_train, x_test, y_train, y_test = train_test_split(X, y, train_size = 0.5)\n",
    "alpha = range(51)\n",
    "d = 10\n",
    "train_error = []\n",
    "test_error = []\n",
    "\n",
    "for a in alpha :\n",
    "    fi_train = PolynomialFeatures(d).fit_transform(x_train) \n",
    "    wL = Ridge(a).fit(fi_train, y_train).coef_\n",
    "    h_train = np.dot(fi_train, wL)\n",
    "    train_error.append(np.log(mean_squared_error(y_train, h_train)))\n",
    "    \n",
    "    fi_test = PolynomialFeatures(d).fit_transform(x_test)\n",
    "    h_test = np.dot(fi_test, wL)\n",
    "    test_error.append(np.log(mean_squared_error(y_test, h_test)))\n",
    "    \n",
    "plt.plot(alpha, train_error, 'r', label = 'train error')\n",
    "plt.plot(alpha, test_error, 'm', label = 'test error')\n",
    "plt.legend(loc = 'upper right')"
   ]
  },
  {
   "cell_type": "markdown",
   "metadata": {},
   "source": [
    "### 5. L1-regularizacija i L2-regularizacija"
   ]
  },
  {
   "cell_type": "markdown",
   "metadata": {},
   "source": [
    "Svrha regularizacije jest potiskivanje težina modela $\\mathbf{w}$ prema nuli, kako bi model bio što jednostavniji. Složenost modela može se okarakterizirati normom pripadnog vektora težina $\\mathbf{w}$, i to tipično L2-normom ili L1-normom. Za jednom trenirani model možemo izračunati i broj ne-nul značajki, ili L0-normu, pomoću sljedeće funkcije koja prima vektor težina $\\mathbf{w}$:"
   ]
  },
  {
   "cell_type": "code",
   "execution_count": 362,
   "metadata": {},
   "outputs": [],
   "source": [
    "def nonzeroes(coef, tol=1e-6): \n",
    "    return len(coef) - len(coef[np.isclose(0, coef, atol=tol)])"
   ]
  },
  {
   "cell_type": "markdown",
   "metadata": {},
   "source": [
    "### (a)\n",
    "\n",
    "Za ovaj zadatak upotrijebite skup za učenje i skup za testiranje iz zadatka 3b. Trenirajte modele **L2-regularizirane** polinomijalne regresije stupnja $d=5$, mijenjajući hiperparametar $\\lambda$ u rasponu $\\{1,2,\\dots,100\\}$. Za svaki od treniranih modela izračunajte L{0,1,2}-norme vektora težina $\\mathbf{w}$ te ih prikažite kao funkciju od $\\lambda$. Pripazite što točno šaljete u funkciju za izračun normi.\n",
    "\n",
    "**Q:** Objasnite oblik obiju krivulja. Hoće li krivulja za $\\|\\mathbf{w}\\|_2$ doseći nulu? Zašto? Je li to problem? Zašto?\n",
    "\n",
    "**Q:** Za $\\lambda=100$, koliki je postotak težina modela jednak nuli, odnosno koliko je model rijedak?"
   ]
  },
  {
   "cell_type": "code",
   "execution_count": 366,
   "metadata": {},
   "outputs": [
    {
     "data": {
      "text/plain": [
       "<matplotlib.legend.Legend at 0x7f268b505700>"
      ]
     },
     "execution_count": 366,
     "metadata": {},
     "output_type": "execute_result"
    },
    {
     "data": {
      "image/png": "[encoded data removed]",
      "text/plain": [
       "<Figure size 432x288 with 1 Axes>"
      ]
     },
     "metadata": {
      "needs_background": "light"
     },
     "output_type": "display_data"
    }
   ],
   "source": [
    "from sklearn.linear_model import Ridge\n",
    "# Vaš kôd ovdje\n",
    "\n",
    "x = make_instances(-5, 5, 50)\n",
    "y = make_labels(x, f, 200)\n",
    "x_train, x_test, y_train, y_test = train_test_split(x, y, train_size = 0.5)\n",
    "d = 5\n",
    "alpha = range(1, 101)\n",
    "L0 = []\n",
    "L1 = []\n",
    "L2 = []\n",
    "for a in alpha :\n",
    "    fi_train = PolynomialFeatures(d).fit_transform(x_train) \n",
    "    wL = Ridge(a).fit(fi_train, y_train).coef_\n",
    "    L2.append(sqrt(np.dot(np.transpose(wL), wL)))\n",
    "    w_tmp = 0\n",
    "    for w in wL:\n",
    "        w_tmp += abs(w)\n",
    "    L1.append(w_tmp)\n",
    "    L0.append(nonzeroes(wL))\n",
    "    \n",
    "plt.plot(alpha, L2, 'r', label = 'L2')\n",
    "plt.plot(alpha, L1, 'm', label = 'L1')\n",
    "plt.plot(alpha, L0, 'g', label = 'L0')\n",
    "plt.legend(loc = 'upper right')\n",
    "\n"
   ]
  },
  {
   "cell_type": "markdown",
   "metadata": {},
   "source": [
    "### (b)"
   ]
  },
  {
   "cell_type": "markdown",
   "metadata": {},
   "source": [
    "Glavna prednost L1-regularizirane regresije (ili *LASSO regression*) nad L2-regulariziranom regresijom jest u tome što L1-regularizirana regresija rezultira **rijetkim modelima** (engl. *sparse models*), odnosno modelima kod kojih su mnoge težine pritegnute na nulu. Pokažite da je to doista tako, ponovivši gornji eksperiment s **L1-regulariziranom** regresijom, implementiranom u klasi  [`Lasso`](http://scikit-learn.org/stable/modules/generated/sklearn.linear_model.Lasso.html) u modulu [`sklearn.linear_model`](http://scikit-learn.org/stable/modules/classes.html#module-sklearn.linear_model)."
   ]
  },
  {
   "cell_type": "code",
   "execution_count": 367,
   "metadata": {},
   "outputs": [
    {
     "data": {
      "text/plain": [
       "<matplotlib.legend.Legend at 0x7f2696eeb9d0>"
      ]
     },
     "execution_count": 367,
     "metadata": {},
     "output_type": "execute_result"
    },
    {
     "data": {
      "image/png": "[encoded data removed]",
      "text/plain": [
       "<Figure size 432x288 with 1 Axes>"
      ]
     },
     "metadata": {
      "needs_background": "light"
     },
     "output_type": "display_data"
    }
   ],
   "source": [
    "from sklearn.linear_model import Lasso\n",
    "# Vaš kôd ovdje\n",
    "\n",
    "L0 = []\n",
    "L1 = []\n",
    "L2 = []\n",
    "for a in alpha :\n",
    "    fi_train = PolynomialFeatures(d).fit_transform(x_train) \n",
    "    wL = Lasso(a).fit(fi_train, y_train).coef_\n",
    "    L2.append(sqrt(np.dot(np.transpose(wL), wL)))\n",
    "    w_tmp = 0\n",
    "    for w in wL:\n",
    "        w_tmp += abs(w)\n",
    "    L1.append(w_tmp)\n",
    "    L0.append(nonzeroes(wL))\n",
    "    \n",
    "plt.plot(alpha, L2, 'r', label = 'L2')\n",
    "plt.plot(alpha, L1, 'm', label = 'L1')\n",
    "plt.plot(alpha, L0, 'g', label = 'L0')\n",
    "plt.legend(loc = 'upper right')"
   ]
  },
  {
   "cell_type": "markdown",
   "metadata": {},
   "source": [
    "### 6. Značajke različitih skala"
   ]
  },
  {
   "cell_type": "markdown",
   "metadata": {},
   "source": [
    "Često se u praksi možemo susreti sa podatcima u kojima sve značajke nisu jednakih magnituda. Primjer jednog takvog skupa je regresijski skup podataka `grades` u kojem se predviđa prosjek ocjena studenta na studiju (1--5) na temelju dvije značajke: bodova na prijamnom ispitu (1--3000) i prosjeka ocjena u srednjoj školi. Prosjek ocjena na studiju izračunat je kao težinska suma ove dvije značajke uz dodani šum.\n",
    "\n",
    "Koristite sljedeći kôd kako biste generirali ovaj skup podataka."
   ]
  },
  {
   "cell_type": "code",
   "execution_count": 376,
   "metadata": {},
   "outputs": [],
   "source": [
    "n_data_points = 500\n",
    "np.random.seed(69)\n",
    "\n",
    "# Generiraj podatke o bodovima na prijamnom ispitu koristeći normalnu razdiobu i ograniči ih na interval [1, 3000].\n",
    "exam_score = np.random.normal(loc=1500.0, scale = 500.0, size = n_data_points) \n",
    "exam_score = np.round(exam_score)\n",
    "exam_score[exam_score > 3000] = 3000\n",
    "exam_score[exam_score < 0] = 0\n",
    "\n",
    "# Generiraj podatke o ocjenama iz srednje škole koristeći normalnu razdiobu i ograniči ih na interval [1, 5].\n",
    "grade_in_highschool = np.random.normal(loc=3, scale = 2.0, size = n_data_points)\n",
    "grade_in_highschool[grade_in_highschool > 5] = 5\n",
    "grade_in_highschool[grade_in_highschool < 1] = 1\n",
    "\n",
    "# Matrica dizajna.\n",
    "grades_X = np.array([exam_score,grade_in_highschool]).T\n",
    "# Završno, generiraj izlazne vrijednosti.\n",
    "rand_noise = np.random.normal(loc=0.0, scale = 0.5, size = n_data_points)\n",
    "exam_influence = 0.9\n",
    "grades_y = ((exam_score / 3000.0) * (exam_influence) + (grade_in_highschool / 5.0) \\\n",
    "            * (1.0 - exam_influence)) * 5.0 + rand_noise\n",
    "grades_y[grades_y < 1] = 1\n",
    "grades_y[grades_y > 5] = 5"
   ]
  },
  {
   "cell_type": "markdown",
   "metadata": {},
   "source": [
    "### a)"
   ]
  },
  {
   "cell_type": "markdown",
   "metadata": {},
   "source": [
    "Iscrtajte ovisnost ciljne vrijednosti (y-os) o prvoj i o drugoj značajki (x-os). Iscrtajte dva odvojena grafa."
   ]
  },
  {
   "cell_type": "code",
   "execution_count": 387,
   "metadata": {},
   "outputs": [
    {
     "data": {
      "text/plain": [
       "<matplotlib.legend.Legend at 0x7f2689f61550>"
      ]
     },
     "execution_count": 387,
     "metadata": {},
     "output_type": "execute_result"
    },
    {
     "data": {
      "image/png": "[encoded data removed]",
      "text/plain": [
       "<Figure size 432x288 with 1 Axes>"
      ]
     },
     "metadata": {
      "needs_background": "light"
     },
     "output_type": "display_data"
    },
    {
     "data": {
      "image/png": "[encoded data removed]",
      "text/plain": [
       "<Figure size 432x288 with 1 Axes>"
      ]
     },
     "metadata": {
      "needs_background": "light"
     },
     "output_type": "display_data"
    }
   ],
   "source": [
    "# Vaš kôd ovdje\n",
    "plt.figure(1)\n",
    "plt.scatter(exam_score, grades_y, label = 'grades_y(exam_score)')\n",
    "plt.legend(loc = 'best')\n",
    "plt.figure(2)\n",
    "plt.scatter(grade_in_highschool, grades_y, label = 'grades_y(grade_in_highschool)')\n",
    "plt.legend(loc = 'best')"
   ]
  },
  {
   "cell_type": "markdown",
   "metadata": {},
   "source": [
    "### b)"
   ]
  },
  {
   "cell_type": "markdown",
   "metadata": {},
   "source": [
    "Naučite model L2-regularizirane regresije ($\\lambda = 0.01$), na podacima `grades_X` i `grades_y`:"
   ]
  },
  {
   "cell_type": "code",
   "execution_count": 390,
   "metadata": {},
   "outputs": [
    {
     "data": {
      "text/plain": [
       "<matplotlib.legend.Legend at 0x7f2689d80700>"
      ]
     },
     "execution_count": 390,
     "metadata": {},
     "output_type": "execute_result"
    },
    {
     "data": {
      "image/png": "[encoded data removed]",
      "text/plain": [
       "<Figure size 432x288 with 1 Axes>"
      ]
     },
     "metadata": {
      "needs_background": "light"
     },
     "output_type": "display_data"
    },
    {
     "data": {
      "image/png": "[encoded data removed]",
      "text/plain": [
       "<Figure size 432x288 with 1 Axes>"
      ]
     },
     "metadata": {
      "needs_background": "light"
     },
     "output_type": "display_data"
    }
   ],
   "source": [
    "# Vaš kôd ovdje\n",
    "fi = PolynomialFeatures(1).fit_transform(grades_X) \n",
    "wL = Ridge(0.01).fit(fi, grades_y).coef_\n",
    "h = np.dot(fi, wL)\n",
    "plt.figure(1)\n",
    "plt.scatter(exam_score, h, label = 'h(exam_score)')\n",
    "plt.legend(loc = 'best')\n",
    "plt.figure(2)\n",
    "plt.scatter(grade_in_highschool, h, label = 'h(grade_in_highschool)')\n",
    "plt.legend(loc = 'best')"
   ]
  },
  {
   "cell_type": "markdown",
   "metadata": {},
   "source": [
    "Sada ponovite gornji eksperiment, ali prvo skalirajte podatke `grades_X` i `grades_y` i spremite ih u varijable `grades_X_fixed` i `grades_y_fixed`. Za tu svrhu, koristite [`StandardScaler`](http://scikit-learn.org/stable/modules/generated/sklearn.preprocessing.StandardScaler.html)."
   ]
  },
  {
   "cell_type": "code",
   "execution_count": 402,
   "metadata": {},
   "outputs": [
    {
     "data": {
      "text/plain": [
       "<matplotlib.legend.Legend at 0x7f26893b3a60>"
      ]
     },
     "execution_count": 402,
     "metadata": {},
     "output_type": "execute_result"
    },
    {
     "data": {
      "image/png": "[encoded data removed]",
      "text/plain": [
       "<Figure size 432x288 with 1 Axes>"
      ]
     },
     "metadata": {
      "needs_background": "light"
     },
     "output_type": "display_data"
    },
    {
     "data": {
      "image/png": "[encoded data removed]",
      "text/plain": [
       "<Figure size 432x288 with 1 Axes>"
      ]
     },
     "metadata": {
      "needs_background": "light"
     },
     "output_type": "display_data"
    }
   ],
   "source": [
    "from sklearn.preprocessing import StandardScaler\n",
    "# Vaš kôd ovdje\n",
    "scaler = StandardScaler().fit(grades_X)\n",
    "grades_X_fixed = scaler.transform(grades_X)\n",
    "#scaler = StandardScaler().fit(grades_y)\n",
    "grades_y_fixed = grades_y\n",
    "\n",
    "fi = PolynomialFeatures(1).fit_transform(grades_X_fixed) \n",
    "wL = Ridge(0.01).fit(fi, grades_y_fixed).coef_\n",
    "h = np.dot(fi, wL)\n",
    "plt.figure(1)\n",
    "plt.scatter(exam_score, h, label = 'h(exam_score)')\n",
    "plt.legend(loc = 'best')\n",
    "plt.figure(2)\n",
    "plt.scatter(grade_in_highschool, h, label = 'h(grade_in_highschool)')\n",
    "plt.legend(loc = 'best')"
   ]
  },
  {
   "cell_type": "markdown",
   "metadata": {},
   "source": [
    "**Q:** Gledajući grafikone iz podzadatka (a), koja značajka bi trebala imati veću magnitudu, odnosno važnost pri predikciji prosjeka na studiju? Odgovaraju li težine Vašoj intuiciji? Objasnite.  "
   ]
  },
  {
   "cell_type": "markdown",
   "metadata": {},
   "source": [
    "### 7. Multikolinearnost"
   ]
  },
  {
   "cell_type": "markdown",
   "metadata": {},
   "source": [
    "### a)"
   ]
  },
  {
   "cell_type": "markdown",
   "metadata": {},
   "source": [
    "Izradite skup podataka `grades_X_fixed_colinear` tako što ćete u skupu `grades_X_fixed` iz\n",
    "zadatka *7b* duplicirati zadnji stupac (ocjenu iz srednje škole). Time smo efektivno uveli savršenu multikolinearnost."
   ]
  },
  {
   "cell_type": "code",
   "execution_count": 411,
   "metadata": {},
   "outputs": [
    {
     "name": "stdout",
     "output_type": "stream",
     "text": [
      "[[ 4.47203826e-01 -1.28800873e+00]\n",
      " [-1.00686868e+00 -1.00386008e+00]\n",
      " [ 6.82533982e-01 -1.02406176e+00]\n",
      " [-1.00495543e+00  5.04714607e-01]\n",
      " [-1.95775557e+00  5.74645410e-01]\n",
      " [-4.83287783e-02  8.72709579e-01]\n",
      " [ 7.24625555e-01 -4.70224665e-01]\n",
      " [ 5.81131557e-01  8.72709579e-01]\n",
      " [ 3.85979721e-01  6.03091198e-01]\n",
      " [ 2.31006203e-01 -6.66007261e-01]\n",
      " [-6.43350555e-01 -1.88600673e+00]\n",
      " [-9.28425296e-01  5.17620940e-02]\n",
      " [-1.23263257e+00 -1.45617459e+00]\n",
      " [ 6.99753262e-01  7.30993385e-01]\n",
      " [-1.69946638e+00 -1.31091915e+00]\n",
      " [-5.47687890e-01 -1.26122523e+00]\n",
      " [-9.05466257e-01  8.72709579e-01]\n",
      " [-2.29257490e+00 -1.88600673e+00]\n",
      " [-2.19691223e+00 -1.51774554e+00]\n",
      " [-1.76516749e-01 -1.88600673e+00]\n",
      " [ 4.64423106e-01  3.83517744e-01]\n",
      " [-1.54831937e+00 -5.72922769e-01]\n",
      " [ 2.78837536e-01  8.72709579e-01]\n",
      " [-1.49283502e+00  5.07763782e-01]\n",
      " [-2.32510020e+00 -1.51490588e+00]\n",
      " [-1.57127840e+00 -1.88600673e+00]\n",
      " [-2.68352908e-01 -3.39689500e-01]\n",
      " [-2.43606890e+00  6.07979332e-01]\n",
      " [-4.09933652e-01 -3.84523456e-01]\n",
      " [-1.40164937e-01  1.37083314e-01]\n",
      " [-1.34742777e+00 -1.33251113e+00]\n",
      " [ 1.09388344e+00 -1.88600673e+00]\n",
      " [-9.23336042e-02  2.98744141e-01]\n",
      " [-1.05278676e+00 -4.87925860e-01]\n",
      " [-1.54066635e+00 -2.76704746e-01]\n",
      " [-2.61400145e+00 -8.07779959e-01]\n",
      " [-1.06235303e+00 -5.35963923e-01]\n",
      " [-6.91181887e-01 -8.54575260e-01]\n",
      " [ 8.87252085e-01  8.72709579e-01]\n",
      " [-6.10825248e-01 -1.64167327e+00]\n",
      " [-5.80213196e-01  8.72709579e-01]\n",
      " [-1.74921096e+00 -3.49319533e-01]\n",
      " [-6.05085489e-01  8.72709579e-01]\n",
      " [-5.28555357e-01 -1.71605553e+00]\n",
      " [-3.48709546e-01  8.72709579e-01]\n",
      " [ 3.11362842e-01 -7.30797716e-01]\n",
      " [-1.93479653e+00 -4.46144725e-01]\n",
      " [-1.78364952e+00  4.29702619e-01]\n",
      " [ 4.60596599e-01 -5.06581517e-02]\n",
      " [-5.02420316e-02  3.39218199e-02]\n",
      " [ 9.31256911e-01 -1.40279894e+00]\n",
      " [-2.79002076e+00 -1.56287719e+00]\n",
      " [-2.37740855e-01  3.68790850e-01]\n",
      " [-1.59423744e+00  2.47323308e-01]\n",
      " [-1.13696991e+00  7.02293744e-01]\n",
      " [ 5.86871317e-01  1.27738771e-01]\n",
      " [-1.11209761e+00 -1.88600673e+00]\n",
      " [ 1.34451962e+00  8.72709579e-01]\n",
      " [ 1.02883283e+00  7.88505865e-01]\n",
      " [-2.14525439e+00 -1.88600673e+00]\n",
      " [-1.02982772e+00 -2.12365133e-01]\n",
      " [-3.04704721e-01  1.90933508e-01]\n",
      " [ 1.22015816e+00 -1.88600673e+00]\n",
      " [-1.10061809e+00  5.72004968e-01]\n",
      " [-3.02791467e-01 -1.88600673e+00]\n",
      " [-2.05724474e+00 -1.06071530e+00]\n",
      " [-2.44372191e+00 -1.88600673e+00]\n",
      " [ 2.75011029e-01 -1.29188753e-01]\n",
      " [-1.07000604e+00 -1.88600673e+00]\n",
      " [-5.72560182e-01  7.22096932e-01]\n",
      " [-6.20391515e-01 -1.52389739e+00]\n",
      " [-5.80213196e-01 -1.88600673e+00]\n",
      " [ 1.01544006e+00 -6.40851370e-01]\n",
      " [-8.32762631e-01  8.72709579e-01]\n",
      " [ 3.28582122e-01  8.72709579e-01]\n",
      " [ 9.81001497e-01 -1.25605265e+00]\n",
      " [ 4.07025507e-01 -1.17040860e+00]\n",
      " [-1.55214587e+00  8.72709579e-01]\n",
      " [ 1.48736312e-01 -1.23446089e+00]\n",
      " [-1.22880606e+00 -1.79663726e+00]\n",
      " [ 9.44649684e-01  8.72709579e-01]\n",
      " [ 1.09579669e+00 -1.88600673e+00]\n",
      " [-4.45022717e-02  6.68550294e-01]\n",
      " [ 1.38661120e+00 -1.88600673e+00]\n",
      " [ 1.27755576e+00 -1.88600673e+00]\n",
      " [ 9.52302697e-01  2.54340721e-01]\n",
      " [ 3.30495375e-01  7.55372984e-01]\n",
      " [-8.36589138e-01  4.35236894e-01]\n",
      " [-1.84678688e+00 -1.88600673e+00]\n",
      " [-8.65938443e-02  4.17708492e-01]\n",
      " [-2.49220375e-01  8.72709579e-01]\n",
      " [ 4.64423106e-01 -4.90879862e-01]\n",
      " [-6.01258982e-01 -4.41625078e-02]\n",
      " [ 4.31897800e-01 -1.26608780e+00]\n",
      " [ 1.59898231e+00 -5.84908137e-01]\n",
      " [ 4.41464066e-01 -1.48576754e+00]\n",
      " [-3.77408346e-01  5.97795685e-01]\n",
      " [-2.83658934e-01 -1.80971938e+00]\n",
      " [-1.85635315e+00 -5.89747280e-01]\n",
      " [-7.04574660e-01  8.72709579e-01]\n",
      " [-7.44752979e-01  5.86160242e-02]\n",
      " [ 8.17724460e-02 -1.39139086e+00]\n",
      " [-1.72690243e-01  8.72709579e-01]\n",
      " [-1.03174097e+00 -3.86889400e-01]\n",
      " [-5.34295116e-01  8.72709579e-01]\n",
      " [-7.12227673e-01 -1.88600673e+00]\n",
      " [ 4.91208652e-01 -1.49924212e+00]\n",
      " [-5.84039702e-01 -1.88600673e+00]\n",
      " [ 1.16084731e+00 -1.43946802e+00]\n",
      " [-9.18859030e-01  2.47420656e-01]\n",
      " [-1.65737480e+00 -9.27035690e-01]\n",
      " [-2.58338940e+00 -1.37217969e+00]\n",
      " [-1.26324462e+00 -1.88600673e+00]\n",
      " [ 5.25647212e-01 -1.88600673e+00]\n",
      " [ 1.37321842e+00  4.95572427e-01]\n",
      " [ 4.73989372e-01 -1.77998201e+00]\n",
      " [-9.49471082e-01  6.79183595e-02]\n",
      " [-2.01389042e-01  2.41932608e-01]\n",
      " [-2.66757255e+00 -4.43692568e-01]\n",
      " [-3.20010747e-01  8.72709579e-01]\n",
      " [-2.31744719e+00 -1.03435395e+00]\n",
      " [-1.63441576e+00  8.72709579e-01]\n",
      " [-9.80733641e-02  2.06670637e-03]\n",
      " [-7.12227673e-01 -3.27361298e-01]\n",
      " [ 8.79599072e-01 -1.10232744e+00]\n",
      " [-6.29957781e-01  8.72709579e-01]\n",
      " [-2.07255077e+00 -9.71689024e-03]\n",
      " [ 6.25136383e-01 -2.76426885e-01]\n",
      " [ 3.28582122e-01  8.72709579e-01]\n",
      " [ 1.28953272e-02 -5.94204267e-01]\n",
      " [-1.15292644e-01 -1.30864751e+00]\n",
      " [-8.78680710e-01 -1.13622962e+00]\n",
      " [ 1.70803775e+00  2.85338744e-01]\n",
      " [ 1.32538709e+00 -6.74862349e-01]\n",
      " [-5.32381863e-01  2.18410349e-01]\n",
      " [ 5.63912278e-01 -5.52577796e-01]\n",
      " [-4.78810771e-01 -1.33943473e+00]\n",
      " [-1.62102299e+00 -1.88600673e+00]\n",
      " [-4.71157758e-01  5.67832809e-01]\n",
      " [-1.29385668e+00 -1.88600673e+00]\n",
      " [ 2.00394151e-01  8.72709579e-01]\n",
      " [-1.36338430e-01 -8.30090336e-01]\n",
      " [-1.57127840e+00 -1.88600673e+00]\n",
      " [-1.30150969e+00 -1.88600673e+00]\n",
      " [ 5.27560465e-01 -1.00255779e+00]\n",
      " [ 2.94143562e-01 -3.62318510e-01]\n",
      " [-1.47178923e+00  3.19658678e-02]\n",
      " [-1.02982772e+00  8.72709579e-01]\n",
      " [-1.87996269e-01  4.25165188e-03]\n",
      " [-1.38760609e+00  3.88344961e-01]\n",
      " [-4.19499918e-01 -1.38077068e+00]\n",
      " [ 1.50649565e-01 -1.27415866e+00]\n",
      " [-7.06487913e-01 -5.37424315e-01]\n",
      " [ 5.86871317e-01 -1.17806257e+00]\n",
      " [-3.33403520e-01 -1.40935015e+00]\n",
      " [ 2.63531509e-01 -1.57299152e+00]\n",
      " [-5.24728850e-01 -1.88600673e+00]\n",
      " [-9.99215668e-01 -1.88600673e+00]\n",
      " [ 9.33170164e-01 -4.82133816e-01]\n",
      " [-1.38186633e+00  8.72709579e-01]\n",
      " [ 2.38150291e+00 -1.14233801e+00]\n",
      " [ 6.15570117e-01 -2.77525763e-01]\n",
      " [ 8.08808700e-01 -1.88600673e+00]\n",
      " [ 1.18124259e-01 -1.88600673e+00]\n",
      " [-1.54831937e+00  8.72709579e-01]\n",
      " [-2.89398694e-01 -9.05317170e-02]\n",
      " [-7.71538526e-01 -8.09720868e-01]\n",
      " [-8.69114444e-01 -7.47525255e-01]\n",
      " [-9.26512043e-01  5.26894225e-01]\n",
      " [ 6.25136383e-01  1.67910711e-01]\n",
      " [-1.90992424e+00  8.72709579e-01]\n",
      " [-6.60569834e-01 -6.91377457e-01]\n",
      " [ 6.38529156e-01 -1.49868947e+00]\n",
      " [-1.38902190e-02 -2.96632294e-01]\n",
      " [-1.20967353e+00 -1.86763491e-01]\n",
      " [ 3.59194174e-01  5.27010637e-01]\n",
      " [-9.80083135e-01  8.72709579e-01]\n",
      " [-1.11466137e-01 -1.88600673e+00]\n",
      " [-1.59997720e+00 -5.36864531e-01]\n",
      " [ 2.52051990e-01 -3.87834385e-01]\n",
      " [-2.43415564e+00  8.72709579e-01]\n",
      " [-6.55480580e-02 -1.85113234e+00]\n",
      " [-9.34165056e-01 -1.83294658e+00]\n",
      " [ 1.16211005e-01  7.08913446e-01]\n",
      " [-2.82254606e+00 -5.49313273e-01]\n",
      " [-1.10444460e+00 -6.83737957e-01]\n",
      " [-2.87485441e-01  6.49171659e-01]\n",
      " [-1.74155795e+00  7.59164751e-01]\n",
      " [ 1.15702080e+00 -1.88600673e+00]\n",
      " [-2.46285444e+00 -5.80159991e-01]\n",
      " [-7.71538526e-01 -2.86752388e-01]\n",
      " [-2.06872426e+00 -8.96813970e-01]\n",
      " [-9.97302415e-01 -1.47352201e+00]\n",
      " [-4.32395246e-03  5.69440395e-01]\n",
      " [-3.81234852e-01 -1.89316769e-01]\n",
      " [-1.34425177e-01 -6.98156454e-01]\n",
      " [-4.48198718e-01  8.72709579e-01]\n",
      " [-4.78810771e-01  8.72709579e-01]\n",
      " [-5.21552849e-02  5.77103521e-01]\n",
      " [ 1.59706906e+00  4.23873521e-01]\n",
      " [ 5.49868998e-02 -1.57028565e+00]\n",
      " [-2.89398694e-01 -5.43852807e-02]\n",
      " [-5.74473436e-01 -1.31556581e+00]\n",
      " [-1.67650734e+00  6.68096263e-02]\n",
      " [-1.12931689e+00 -9.69920547e-01]\n",
      " [-1.09487833e+00 -1.12718002e+00]\n",
      " [ 5.54346011e-01  5.83528630e-01]\n",
      " [ 3.64933934e-01 -1.03092107e+00]\n",
      " [ 4.16591773e-01  3.60055709e-01]\n",
      " [-6.24218022e-01  6.17574500e-01]\n",
      " [ 5.98350837e-01 -5.67574724e-02]\n",
      " [-2.62613148e-01 -1.88600673e+00]\n",
      " [ 2.05483404e-02 -1.09469536e-01]\n",
      " [-8.67201191e-01 -7.21908572e-01]\n",
      " [-1.00637124e-02  6.85896288e-01]\n",
      " [-4.96030050e-01  8.72709579e-01]\n",
      " [-1.09552884e-01  8.72709579e-01]\n",
      " [ 2.21439937e-01  8.72709579e-01]\n",
      " [-1.91566400e+00  8.72709579e-01]\n",
      " [-9.91562655e-01 -7.12557539e-01]\n",
      " [-2.26261335e-01 -1.44259848e+00]\n",
      " [ 3.95545987e-01 -1.87223632e+00]\n",
      " [-2.72179414e-01 -1.88600673e+00]\n",
      " [ 5.61999024e-01  8.72709579e-01]\n",
      " [-5.38121623e-01 -1.36470730e+00]\n",
      " [ 3.57280921e-01 -9.63423196e-01]\n",
      " [-1.39717235e+00  5.18230414e-01]\n",
      " [-9.97302415e-01 -2.62281159e-02]\n",
      " [ 3.03709829e-01  3.60361067e-01]\n",
      " [-2.01389042e-01  8.72709579e-01]\n",
      " [-2.27918213e+00 -7.10731153e-01]\n",
      " [ 4.83555639e-01 -8.67438113e-01]\n",
      " [-2.94690753e+00 -1.74483054e+00]\n",
      " [-5.51514396e-01  8.72709579e-01]\n",
      " [-3.05213646e+00 -1.43545562e+00]\n",
      " [-5.70646929e-01 -4.92716460e-01]\n",
      " [-4.46285465e-01 -6.52603403e-01]\n",
      " [ 6.90186995e-01 -1.85944987e+00]\n",
      " [-1.24793860e+00  8.43506299e-01]\n",
      " [-1.18288799e+00 -1.94109018e-01]\n",
      " [-2.11081584e+00  4.15666219e-01]\n",
      " [ 1.17615333e+00  8.72709579e-01]\n",
      " [-2.17203994e+00 -1.83135023e+00]\n",
      " [ 9.98220777e-01 -1.88600673e+00]\n",
      " [ 4.47203826e-01 -1.34203894e+00]\n",
      " [ 1.83174871e-01 -1.88600673e+00]\n",
      " [ 5.52432758e-01 -2.57733907e-01]\n",
      " [-7.75365032e-01 -1.44807097e+00]\n",
      " [-2.52981831e+00  4.05598161e-01]\n",
      " [ 2.38659217e-01 -1.37310597e+00]\n",
      " [-1.93736029e-01 -7.69338313e-01]\n",
      " [ 8.56640032e-01  5.39950369e-01]\n",
      " [-8.93986737e-01 -1.84973078e+00]\n",
      " [-6.68222847e-01  4.59365383e-01]\n",
      " [ 1.43444253e+00 -3.90217543e-02]\n",
      " [-8.74854204e-01 -1.88600673e+00]\n",
      " [ 5.23733958e-01 -7.47595204e-01]\n",
      " [-2.22434829e-01 -1.88600673e+00]\n",
      " [-3.54449306e-01 -1.35354598e+00]\n",
      " [-8.78680710e-01  8.72709579e-01]\n",
      " [-1.23071932e+00 -1.43307203e+00]\n",
      " [-1.75877723e+00 -5.30483871e-01]\n",
      " [-1.63441576e+00 -1.88600673e+00]\n",
      " [ 1.48610037e+00  6.44731611e-01]\n",
      " [ 5.42866491e-01  2.24406537e-01]\n",
      " [-1.35508078e+00 -1.88600673e+00]\n",
      " [ 1.16211005e-01  7.21990254e-01]\n",
      " [ 6.25136383e-01  7.11852755e-01]\n",
      " [ 4.83555639e-01 -1.77540572e+00]\n",
      " [-1.86400616e+00 -1.71777555e+00]\n",
      " [-2.00750016e+00 -1.36930224e+00]\n",
      " [ 1.24885696e+00 -4.13472588e-01]\n",
      " [-1.26133137e+00  8.72709579e-01]\n",
      " [-3.71668586e-01  3.10619464e-01]\n",
      " [ 1.56645701e+00 -1.34705791e+00]\n",
      " [-7.58145753e-01  8.72709579e-01]\n",
      " [-2.47433396e+00 -1.67510830e+00]\n",
      " [-1.29003017e+00 -1.88600673e+00]\n",
      " [ 2.00394151e-01 -8.09309943e-01]\n",
      " [-3.96540879e-01 -1.64255226e-01]\n",
      " [-5.68733676e-01 -1.88600673e+00]\n",
      " [ 4.95035159e-01 -1.34063480e+00]\n",
      " [-1.72816518e+00 -1.88600673e+00]\n",
      " [-8.27022871e-01  6.09699030e-01]\n",
      " [-1.02026145e+00 -7.84614219e-01]\n",
      " [ 4.89295399e-01  8.72709579e-01]\n",
      " [-5.76386689e-01 -1.32763623e+00]\n",
      " [-4.97445858e-04 -1.28426137e+00]\n",
      " [ 1.23355093e+00  8.39901435e-01]\n",
      " [-1.64206878e+00 -1.88600673e+00]\n",
      " [ 5.42866491e-01 -1.07210982e+00]\n",
      " [ 4.03199000e-01 -8.21918952e-02]\n",
      " [-1.22497956e+00 -7.23397440e-01]\n",
      " [-1.78364952e+00 -1.88600673e+00]\n",
      " [-1.22945657e-01 -1.75391654e+00]\n",
      " [ 9.63782217e-01  5.10914752e-01]\n",
      " [-1.15292644e-01 -1.88600673e+00]\n",
      " [-1.59297470e-01 -6.16573193e-01]\n",
      " [-1.66502782e+00  4.98057748e-02]\n",
      " [-1.84487363e+00 -1.78477039e+00]\n",
      " [ 8.17724460e-02  8.72709579e-01]\n",
      " [ 4.20418280e-01 -1.88600673e+00]\n",
      " [-9.83909642e-01  8.55478119e-02]\n",
      " [-1.16566871e+00  2.95355988e-01]\n",
      " [-1.28237716e+00 -6.04963776e-01]\n",
      " [ 1.67868845e-01 -1.88600673e+00]\n",
      " [-6.68222847e-01 -5.76487940e-01]\n",
      " [-3.14971238e+00 -1.88600673e+00]\n",
      " [-7.48579486e-01  8.72709579e-01]\n",
      " [-1.96299789e-02 -4.06021367e-01]\n",
      " [-9.68603615e-01 -1.59229215e+00]\n",
      " [-2.15673391e+00  9.06160063e-02]\n",
      " [ 2.12130046e+00  8.72709579e-01]\n",
      " [-1.60763022e+00 -6.11703339e-01]\n",
      " [ 2.31006203e-01  1.94035709e-01]\n",
      " [-1.03813124e-01 -1.01488470e+00]\n",
      " [-2.49537975e+00 -1.05942005e+00]\n",
      " [-1.04130724e+00 -9.98187855e-01]\n",
      " [-2.34564855e-02  3.80437752e-01]\n",
      " [-9.80083135e-01 -1.41713180e+00]\n",
      " [ 6.67227956e-01 -1.88600673e+00]\n",
      " [-5.61080663e-01 -1.32272079e+00]\n",
      " [-2.08403029e+00 -1.88600673e+00]\n",
      " [-1.24219884e+00 -1.35621056e+00]\n",
      " [-1.25176510e+00  4.51003621e-01]\n",
      " [-1.77167256e-02 -8.49778431e-01]\n",
      " [-1.21732654e+00  1.21512488e-01]\n",
      " [-1.22689281e+00 -1.88600673e+00]\n",
      " [-1.68863736e-01 -1.88600673e+00]\n",
      " [-2.27918213e+00  3.31845188e-01]\n",
      " [-3.31490267e-01 -7.38433841e-01]\n",
      " [ 2.62881003e-02 -4.98615280e-01]\n",
      " [-5.05596317e-01  8.72709579e-01]\n",
      " [-2.59486892e+00 -1.65980539e+00]\n",
      " [ 3.82153214e-01 -1.88600673e+00]\n",
      " [-8.46805910e-02  3.19773469e-01]\n",
      " [ 1.94654391e-01 -2.37135320e-01]\n",
      " [ 7.85849660e-01 -1.18105058e+00]\n",
      " [ 5.08427932e-01 -1.30431468e+00]\n",
      " [-2.30596767e+00  8.72709579e-01]\n",
      " [-1.34425177e-01  8.72709579e-01]\n",
      " [-9.78169882e-01  8.72709579e-01]\n",
      " [-1.96299789e-02 -8.90197194e-01]\n",
      " [-1.57701816e+00 -9.92977316e-01]\n",
      " [-1.81043507e+00 -3.21961574e-01]\n",
      " [-2.67713881e+00  8.72709579e-01]\n",
      " [-1.39908561e+00 -6.37898001e-01]\n",
      " [ 7.22061795e-02 -1.17990182e+00]\n",
      " [ 1.38087144e+00  8.72709579e-01]\n",
      " [ 1.53584495e+00  1.28238846e-01]\n",
      " [ 1.83174871e-01  5.40247820e-01]\n",
      " [-4.53938478e-01  8.39434194e-03]\n",
      " [-1.36338430e-01 -1.44267485e-01]\n",
      " [-1.04896025e+00  1.49193860e-01]\n",
      " [ 1.81261618e-01 -1.40558522e+00]\n",
      " [-7.52405993e-01 -6.85780808e-01]\n",
      " [-1.03748073e+00  8.72709579e-01]\n",
      " [-4.29066185e-01  7.13579829e-01]\n",
      " [-2.59104241e+00 -8.34431526e-01]\n",
      " [ 5.40953238e-01 -1.88600673e+00]\n",
      " [-1.63632902e+00 -1.88600673e+00]\n",
      " [-8.55721671e-01 -1.76071301e+00]\n",
      " [ 9.04471365e-01  7.41612777e-02]\n",
      " [ 2.71184523e-01  5.46783344e-01]\n",
      " [-2.16630018e+00 -2.35237127e-01]\n",
      " [ 1.90827884e-01 -1.88600673e+00]\n",
      " [-1.46987598e+00  6.20943885e-01]\n",
      " [-1.32638198e+00 -1.48531765e+00]\n",
      " [-1.12740364e+00  8.72709579e-01]\n",
      " [-1.56362539e+00 -3.61197118e-01]\n",
      " [-1.69755312e+00  8.72709579e-01]\n",
      " [-5.62993916e-01 -6.83741716e-01]\n",
      " [-1.31872897e+00 -1.88600673e+00]\n",
      " [-1.46796273e+00  8.72709579e-01]\n",
      " [ 2.34832710e-01 -1.88600673e+00]\n",
      " [-1.71285915e+00  2.33558778e-01]\n",
      " [ 7.03579768e-01  2.84460407e-02]\n",
      " [-9.41818069e-01  3.72364314e-01]\n",
      " [-6.45263808e-01  6.52401007e-01]\n",
      " [ 7.78196647e-01 -6.91202447e-01]\n",
      " [-9.18859030e-01 -1.88600673e+00]\n",
      " [-5.99345729e-01  4.72873139e-01]\n",
      " [-3.62102319e-01 -7.92577050e-01]\n",
      " [-2.16056042e+00  8.72709579e-01]\n",
      " [-8.74854204e-01  8.72709579e-01]\n",
      " [-1.09552884e-01  8.72709579e-01]\n",
      " [-2.23326405e+00 -7.93574522e-02]\n",
      " [ 1.81261618e-01  8.72709579e-01]\n",
      " [-1.03813124e-01 -1.63854498e+00]\n",
      " [ 2.25266444e-01  4.90687428e-01]\n",
      " [-8.19369858e-01 -1.88600673e+00]\n",
      " [ 1.41580744e-03 -1.19051715e+00]\n",
      " [-2.57573639e+00 -1.78193346e+00]\n",
      " [-1.28620366e+00 -1.29341791e+00]\n",
      " [-1.20393377e+00 -1.88600673e+00]\n",
      " [-5.87866209e-01  5.47659459e-01]\n",
      " [-1.67076758e+00 -7.05614607e-01]\n",
      " [-5.41948130e-01  8.72709579e-01]\n",
      " [-1.78364952e+00 -1.45693408e+00]\n",
      " [-5.53427649e-01 -2.62059437e-01]\n",
      " [-6.16565008e-01 -1.88600673e+00]\n",
      " [ 4.35724306e-01 -1.88600673e+00]\n",
      " [ 4.08938760e-01 -1.10664289e+00]\n",
      " [-4.82637277e-01 -6.28026978e-01]\n",
      " [ 1.33495336e+00 -1.88600673e+00]\n",
      " [-1.29194342e+00  8.72709579e-01]\n",
      " [-5.97432475e-01 -1.64379080e+00]\n",
      " [-1.74603496e-01  8.72709579e-01]\n",
      " [-2.03302296e-01 -3.59353212e-02]\n",
      " [-3.11094987e-02 -1.88600673e+00]\n",
      " [-1.26772164e-01  7.56620078e-01]\n",
      " [ 1.31517032e-01 -1.52998457e+00]\n",
      " [-2.07128802e-01 -1.88600673e+00]\n",
      " [-3.60189066e-01  8.72709579e-01]\n",
      " [-7.35186713e-01 -1.88600673e+00]\n",
      " [ 5.04601425e-01 -3.98106899e-01]\n",
      " [-7.37099966e-01 -1.88600673e+00]\n",
      " [-2.85572188e-01 -1.88600673e+00]\n",
      " [-6.12738502e-01  3.26374474e-01]\n",
      " [-7.31360206e-01  3.15080234e-01]\n",
      " [ 2.15700177e-01 -7.52448475e-01]\n",
      " [-2.18543271e+00 -6.59354462e-02]\n",
      " [-5.91692715e-01 -1.44983739e+00]\n",
      " [-1.05852652e+00 -1.88600673e+00]\n",
      " [-1.27663740e+00  8.72709579e-01]\n",
      " [-4.46285465e-01 -1.57683182e-02]\n",
      " [-1.25367836e+00  8.72709579e-01]\n",
      " [-4.11846905e-01  8.72709579e-01]\n",
      " [-1.91949051e+00  8.72709579e-01]\n",
      " [-1.31298921e+00 -6.93356352e-01]\n",
      " [ 3.43888148e-01 -9.31265903e-01]\n",
      " [-7.40926473e-01 -5.37144370e-01]\n",
      " [-2.35827602e-01  2.57003610e-01]\n",
      " [-1.59232419e+00 -1.00029977e+00]\n",
      " [-1.51388081e+00 -1.88600673e+00]\n",
      " [-6.89268634e-01  8.72709579e-01]\n",
      " [ 3.53454415e-01 -4.99427097e-01]\n",
      " [-2.38058455e+00 -1.88600673e+00]\n",
      " [ 5.24231404e-03 -7.12601856e-01]\n",
      " [-1.58658443e+00 -1.88600673e+00]\n",
      " [-1.09296508e+00  8.72709579e-01]\n",
      " [-1.68863736e-01  8.72709579e-01]\n",
      " [-9.68603615e-01 -1.88600673e+00]\n",
      " [ 3.26668868e-01 -1.88600673e+00]\n",
      " [ 9.46562937e-01  5.63640304e-01]\n",
      " [-7.08401167e-01 -4.63485928e-01]\n",
      " [-6.75875861e-01  1.96307896e-01]\n",
      " [-2.17395319e+00 -5.44594192e-01]\n",
      " [-2.56873388e-01 -1.83660328e+00]\n",
      " [ 1.27690525e-01 -1.24986848e+00]\n",
      " [-8.80593964e-01  8.72709579e-01]\n",
      " [ 1.48736312e-01 -3.70411533e-01]\n",
      " [ 9.40823178e-01  2.90116317e-01]\n",
      " [-1.01260844e+00 -9.04865594e-01]\n",
      " [-6.43350555e-01 -1.88600673e+00]\n",
      " [-7.73451779e-01 -1.03495377e+00]\n",
      " [ 1.60215831e-01  8.72709579e-01]\n",
      " [-1.13379391e-01  5.94419894e-02]\n",
      " [-2.23135079e+00 -1.60314871e+00]\n",
      " [ 2.82013536e-02  1.30988957e-01]\n",
      " [-5.61080663e-01 -8.48948743e-02]\n",
      " [-1.23071932e+00 -4.41747936e-01]\n",
      " [ 8.75772565e-01 -6.79753633e-01]\n",
      " [ 5.12254438e-01  8.72709579e-01]\n",
      " [ 5.49868998e-02 -4.17687652e-01]\n",
      " [-2.39971708e+00 -4.58719319e-01]\n",
      " [ 1.54476071e-01  3.72510855e-01]\n",
      " [-1.26772164e-01 -1.88600673e+00]\n",
      " [-5.95519222e-01  8.72709579e-01]\n",
      " [-2.95138454e-01 -1.36394488e+00]\n",
      " [-2.74092668e-01  3.15298756e-01]\n",
      " [-9.23336042e-02 -1.68630065e-01]\n",
      " [-4.73071011e-01 -8.59476110e-01]\n",
      " [-3.12357734e-01 -1.32578258e+00]\n",
      " [ 1.07092440e+00  8.07066107e-01]\n",
      " [-1.11209761e+00 -4.70690445e-02]\n",
      " [-6.12738502e-01 -1.54328111e+00]\n",
      " [ 2.78837536e-01  2.23403438e-01]\n",
      " [ 3.97459240e-01 -1.68302462e+00]\n",
      " [-2.77919174e-01  8.72709579e-01]\n",
      " [ 1.30051480e+00 -9.37986805e-01]\n",
      " [-2.27535562e+00 -7.38584487e-01]\n",
      " [-8.53808418e-01 -1.88600673e+00]\n",
      " [-1.27281089e+00 -1.57137826e+00]\n",
      " [ 4.96948412e-01 -1.88600673e+00]\n",
      " [-8.72940950e-01  3.77781620e-02]\n",
      " [-2.58786641e-01  8.72709579e-01]\n",
      " [ 5.21820705e-01 -2.31385462e-01]\n",
      " [-7.29446953e-01 -8.39181318e-01]\n",
      " [-1.28046390e+00  7.97477905e-01]\n",
      " [-7.67712019e-01 -1.54277812e+00]\n",
      " [ 1.52819194e+00 -1.91821566e-01]\n",
      " [ 2.31006203e-01 -1.88600673e+00]\n",
      " [ 1.17232683e+00 -9.43491761e-02]\n",
      " [-6.43350555e-01  6.41039559e-02]\n",
      " [ 3.68760441e-01  8.72709579e-01]\n",
      " [-8.23196365e-01 -1.88600673e+00]\n",
      " [-8.19369858e-01  2.98812296e-01]\n",
      " [ 3.09449589e-01  7.45902322e-01]\n",
      " [-5.22815597e-01  7.15367100e-01]]\n",
      "[[ 4.47203826e-01 -1.28800873e+00]\n",
      " [-1.00686868e+00 -1.00386008e+00]\n",
      " [-1.00686868e+00 -1.00386008e+00]\n",
      " [-1.00495543e+00  5.04714607e-01]\n",
      " [-1.95775557e+00  5.74645410e-01]\n",
      " [-4.83287783e-02  8.72709579e-01]\n",
      " [ 7.24625555e-01 -4.70224665e-01]\n",
      " [ 5.81131557e-01  8.72709579e-01]\n",
      " [ 3.85979721e-01  6.03091198e-01]\n",
      " [ 2.31006203e-01 -6.66007261e-01]\n",
      " [-6.43350555e-01 -1.88600673e+00]\n",
      " [-9.28425296e-01  5.17620940e-02]\n",
      " [-1.23263257e+00 -1.45617459e+00]\n",
      " [ 6.99753262e-01  7.30993385e-01]\n",
      " [-1.69946638e+00 -1.31091915e+00]\n",
      " [-5.47687890e-01 -1.26122523e+00]\n",
      " [-9.05466257e-01  8.72709579e-01]\n",
      " [-2.29257490e+00 -1.88600673e+00]\n",
      " [-2.19691223e+00 -1.51774554e+00]\n",
      " [-1.76516749e-01 -1.88600673e+00]\n",
      " [ 4.64423106e-01  3.83517744e-01]\n",
      " [-1.54831937e+00 -5.72922769e-01]\n",
      " [ 2.78837536e-01  8.72709579e-01]\n",
      " [-1.49283502e+00  5.07763782e-01]\n",
      " [-2.32510020e+00 -1.51490588e+00]\n",
      " [-1.57127840e+00 -1.88600673e+00]\n",
      " [-2.68352908e-01 -3.39689500e-01]\n",
      " [-2.43606890e+00  6.07979332e-01]\n",
      " [-4.09933652e-01 -3.84523456e-01]\n",
      " [-1.40164937e-01  1.37083314e-01]\n",
      " [-1.34742777e+00 -1.33251113e+00]\n",
      " [ 1.09388344e+00 -1.88600673e+00]\n",
      " [-9.23336042e-02  2.98744141e-01]\n",
      " [-1.05278676e+00 -4.87925860e-01]\n",
      " [-1.54066635e+00 -2.76704746e-01]\n",
      " [-2.61400145e+00 -8.07779959e-01]\n",
      " [-1.06235303e+00 -5.35963923e-01]\n",
      " [-6.91181887e-01 -8.54575260e-01]\n",
      " [ 8.87252085e-01  8.72709579e-01]\n",
      " [-6.10825248e-01 -1.64167327e+00]\n",
      " [-5.80213196e-01  8.72709579e-01]\n",
      " [-1.74921096e+00 -3.49319533e-01]\n",
      " [-6.05085489e-01  8.72709579e-01]\n",
      " [-5.28555357e-01 -1.71605553e+00]\n",
      " [-3.48709546e-01  8.72709579e-01]\n",
      " [ 3.11362842e-01 -7.30797716e-01]\n",
      " [-1.93479653e+00 -4.46144725e-01]\n",
      " [-1.78364952e+00  4.29702619e-01]\n",
      " [ 4.60596599e-01 -5.06581517e-02]\n",
      " [-5.02420316e-02  3.39218199e-02]\n",
      " [ 9.31256911e-01 -1.40279894e+00]\n",
      " [-2.79002076e+00 -1.56287719e+00]\n",
      " [-2.37740855e-01  3.68790850e-01]\n",
      " [-1.59423744e+00  2.47323308e-01]\n",
      " [-1.13696991e+00  7.02293744e-01]\n",
      " [ 5.86871317e-01  1.27738771e-01]\n",
      " [-1.11209761e+00 -1.88600673e+00]\n",
      " [ 1.34451962e+00  8.72709579e-01]\n",
      " [ 1.02883283e+00  7.88505865e-01]\n",
      " [-2.14525439e+00 -1.88600673e+00]\n",
      " [-1.02982772e+00 -2.12365133e-01]\n",
      " [-3.04704721e-01  1.90933508e-01]\n",
      " [ 1.22015816e+00 -1.88600673e+00]\n",
      " [-1.10061809e+00  5.72004968e-01]\n",
      " [-3.02791467e-01 -1.88600673e+00]\n",
      " [-2.05724474e+00 -1.06071530e+00]\n",
      " [-2.44372191e+00 -1.88600673e+00]\n",
      " [ 2.75011029e-01 -1.29188753e-01]\n",
      " [-1.07000604e+00 -1.88600673e+00]\n",
      " [-5.72560182e-01  7.22096932e-01]\n",
      " [-6.20391515e-01 -1.52389739e+00]\n",
      " [-5.80213196e-01 -1.88600673e+00]\n",
      " [ 1.01544006e+00 -6.40851370e-01]\n",
      " [-8.32762631e-01  8.72709579e-01]\n",
      " [ 3.28582122e-01  8.72709579e-01]\n",
      " [ 9.81001497e-01 -1.25605265e+00]\n",
      " [ 4.07025507e-01 -1.17040860e+00]\n",
      " [-1.55214587e+00  8.72709579e-01]\n",
      " [ 1.48736312e-01 -1.23446089e+00]\n",
      " [-1.22880606e+00 -1.79663726e+00]\n",
      " [ 9.44649684e-01  8.72709579e-01]\n",
      " [ 1.09579669e+00 -1.88600673e+00]\n",
      " [-4.45022717e-02  6.68550294e-01]\n",
      " [ 1.38661120e+00 -1.88600673e+00]\n",
      " [ 1.27755576e+00 -1.88600673e+00]\n",
      " [ 9.52302697e-01  2.54340721e-01]\n",
      " [ 3.30495375e-01  7.55372984e-01]\n",
      " [-8.36589138e-01  4.35236894e-01]\n",
      " [-1.84678688e+00 -1.88600673e+00]\n",
      " [-8.65938443e-02  4.17708492e-01]\n",
      " [-2.49220375e-01  8.72709579e-01]\n",
      " [ 4.64423106e-01 -4.90879862e-01]\n",
      " [-6.01258982e-01 -4.41625078e-02]\n",
      " [ 4.31897800e-01 -1.26608780e+00]\n",
      " [ 1.59898231e+00 -5.84908137e-01]\n",
      " [ 4.41464066e-01 -1.48576754e+00]\n",
      " [-3.77408346e-01  5.97795685e-01]\n",
      " [-2.83658934e-01 -1.80971938e+00]\n",
      " [-1.85635315e+00 -5.89747280e-01]\n",
      " [-7.04574660e-01  8.72709579e-01]\n",
      " [-7.44752979e-01  5.86160242e-02]\n",
      " [ 8.17724460e-02 -1.39139086e+00]\n",
      " [-1.72690243e-01  8.72709579e-01]\n",
      " [-1.03174097e+00 -3.86889400e-01]\n",
      " [-5.34295116e-01  8.72709579e-01]\n",
      " [-7.12227673e-01 -1.88600673e+00]\n",
      " [ 4.91208652e-01 -1.49924212e+00]\n",
      " [-5.84039702e-01 -1.88600673e+00]\n",
      " [ 1.16084731e+00 -1.43946802e+00]\n",
      " [-9.18859030e-01  2.47420656e-01]\n",
      " [-1.65737480e+00 -9.27035690e-01]\n",
      " [-2.58338940e+00 -1.37217969e+00]\n",
      " [-1.26324462e+00 -1.88600673e+00]\n",
      " [ 5.25647212e-01 -1.88600673e+00]\n",
      " [ 1.37321842e+00  4.95572427e-01]\n",
      " [ 4.73989372e-01 -1.77998201e+00]\n",
      " [-9.49471082e-01  6.79183595e-02]\n",
      " [-2.01389042e-01  2.41932608e-01]\n",
      " [-2.66757255e+00 -4.43692568e-01]\n",
      " [-3.20010747e-01  8.72709579e-01]\n",
      " [-2.31744719e+00 -1.03435395e+00]\n",
      " [-1.63441576e+00  8.72709579e-01]\n",
      " [-9.80733641e-02  2.06670637e-03]\n",
      " [-7.12227673e-01 -3.27361298e-01]\n",
      " [ 8.79599072e-01 -1.10232744e+00]\n",
      " [-6.29957781e-01  8.72709579e-01]\n",
      " [-2.07255077e+00 -9.71689024e-03]\n",
      " [ 6.25136383e-01 -2.76426885e-01]\n",
      " [ 3.28582122e-01  8.72709579e-01]\n",
      " [ 1.28953272e-02 -5.94204267e-01]\n",
      " [-1.15292644e-01 -1.30864751e+00]\n",
      " [-8.78680710e-01 -1.13622962e+00]\n",
      " [ 1.70803775e+00  2.85338744e-01]\n",
      " [ 1.32538709e+00 -6.74862349e-01]\n",
      " [-5.32381863e-01  2.18410349e-01]\n",
      " [ 5.63912278e-01 -5.52577796e-01]\n",
      " [-4.78810771e-01 -1.33943473e+00]\n",
      " [-1.62102299e+00 -1.88600673e+00]\n",
      " [-4.71157758e-01  5.67832809e-01]\n",
      " [-1.29385668e+00 -1.88600673e+00]\n",
      " [ 2.00394151e-01  8.72709579e-01]\n",
      " [-1.36338430e-01 -8.30090336e-01]\n",
      " [-1.57127840e+00 -1.88600673e+00]\n",
      " [-1.30150969e+00 -1.88600673e+00]\n",
      " [ 5.27560465e-01 -1.00255779e+00]\n",
      " [ 2.94143562e-01 -3.62318510e-01]\n",
      " [-1.47178923e+00  3.19658678e-02]\n",
      " [-1.02982772e+00  8.72709579e-01]\n",
      " [-1.87996269e-01  4.25165188e-03]\n",
      " [-1.38760609e+00  3.88344961e-01]\n",
      " [-4.19499918e-01 -1.38077068e+00]\n",
      " [ 1.50649565e-01 -1.27415866e+00]\n",
      " [-7.06487913e-01 -5.37424315e-01]\n",
      " [ 5.86871317e-01 -1.17806257e+00]\n",
      " [-3.33403520e-01 -1.40935015e+00]\n",
      " [ 2.63531509e-01 -1.57299152e+00]\n",
      " [-5.24728850e-01 -1.88600673e+00]\n",
      " [-9.99215668e-01 -1.88600673e+00]\n",
      " [ 9.33170164e-01 -4.82133816e-01]\n",
      " [-1.38186633e+00  8.72709579e-01]\n",
      " [ 2.38150291e+00 -1.14233801e+00]\n",
      " [ 6.15570117e-01 -2.77525763e-01]\n",
      " [ 8.08808700e-01 -1.88600673e+00]\n",
      " [ 1.18124259e-01 -1.88600673e+00]\n",
      " [-1.54831937e+00  8.72709579e-01]\n",
      " [-2.89398694e-01 -9.05317170e-02]\n",
      " [-7.71538526e-01 -8.09720868e-01]\n",
      " [-8.69114444e-01 -7.47525255e-01]\n",
      " [-9.26512043e-01  5.26894225e-01]\n",
      " [ 6.25136383e-01  1.67910711e-01]\n",
      " [-1.90992424e+00  8.72709579e-01]\n",
      " [-6.60569834e-01 -6.91377457e-01]\n",
      " [ 6.38529156e-01 -1.49868947e+00]\n",
      " [-1.38902190e-02 -2.96632294e-01]\n",
      " [-1.20967353e+00 -1.86763491e-01]\n",
      " [ 3.59194174e-01  5.27010637e-01]\n",
      " [-9.80083135e-01  8.72709579e-01]\n",
      " [-1.11466137e-01 -1.88600673e+00]\n",
      " [-1.59997720e+00 -5.36864531e-01]\n",
      " [ 2.52051990e-01 -3.87834385e-01]\n",
      " [-2.43415564e+00  8.72709579e-01]\n",
      " [-6.55480580e-02 -1.85113234e+00]\n",
      " [-9.34165056e-01 -1.83294658e+00]\n",
      " [ 1.16211005e-01  7.08913446e-01]\n",
      " [-2.82254606e+00 -5.49313273e-01]\n",
      " [-1.10444460e+00 -6.83737957e-01]\n",
      " [-2.87485441e-01  6.49171659e-01]\n",
      " [-1.74155795e+00  7.59164751e-01]\n",
      " [ 1.15702080e+00 -1.88600673e+00]\n",
      " [-2.46285444e+00 -5.80159991e-01]\n",
      " [-7.71538526e-01 -2.86752388e-01]\n",
      " [-2.06872426e+00 -8.96813970e-01]\n",
      " [-9.97302415e-01 -1.47352201e+00]\n",
      " [-4.32395246e-03  5.69440395e-01]\n",
      " [-3.81234852e-01 -1.89316769e-01]\n",
      " [-1.34425177e-01 -6.98156454e-01]\n",
      " [-4.48198718e-01  8.72709579e-01]\n",
      " [-4.78810771e-01  8.72709579e-01]\n",
      " [-5.21552849e-02  5.77103521e-01]\n",
      " [ 1.59706906e+00  4.23873521e-01]\n",
      " [ 5.49868998e-02 -1.57028565e+00]\n",
      " [-2.89398694e-01 -5.43852807e-02]\n",
      " [-5.74473436e-01 -1.31556581e+00]\n",
      " [-1.67650734e+00  6.68096263e-02]\n",
      " [-1.12931689e+00 -9.69920547e-01]\n",
      " [-1.09487833e+00 -1.12718002e+00]\n",
      " [ 5.54346011e-01  5.83528630e-01]\n",
      " [ 3.64933934e-01 -1.03092107e+00]\n",
      " [ 4.16591773e-01  3.60055709e-01]\n",
      " [-6.24218022e-01  6.17574500e-01]\n",
      " [ 5.98350837e-01 -5.67574724e-02]\n",
      " [-2.62613148e-01 -1.88600673e+00]\n",
      " [ 2.05483404e-02 -1.09469536e-01]\n",
      " [-8.67201191e-01 -7.21908572e-01]\n",
      " [-1.00637124e-02  6.85896288e-01]\n",
      " [-4.96030050e-01  8.72709579e-01]\n",
      " [-1.09552884e-01  8.72709579e-01]\n",
      " [ 2.21439937e-01  8.72709579e-01]\n",
      " [-1.91566400e+00  8.72709579e-01]\n",
      " [-9.91562655e-01 -7.12557539e-01]\n",
      " [-2.26261335e-01 -1.44259848e+00]\n",
      " [ 3.95545987e-01 -1.87223632e+00]\n",
      " [-2.72179414e-01 -1.88600673e+00]\n",
      " [ 5.61999024e-01  8.72709579e-01]\n",
      " [-5.38121623e-01 -1.36470730e+00]\n",
      " [ 3.57280921e-01 -9.63423196e-01]\n",
      " [-1.39717235e+00  5.18230414e-01]\n",
      " [-9.97302415e-01 -2.62281159e-02]\n",
      " [ 3.03709829e-01  3.60361067e-01]\n",
      " [-2.01389042e-01  8.72709579e-01]\n",
      " [-2.27918213e+00 -7.10731153e-01]\n",
      " [ 4.83555639e-01 -8.67438113e-01]\n",
      " [-2.94690753e+00 -1.74483054e+00]\n",
      " [-5.51514396e-01  8.72709579e-01]\n",
      " [-3.05213646e+00 -1.43545562e+00]\n",
      " [-5.70646929e-01 -4.92716460e-01]\n",
      " [-4.46285465e-01 -6.52603403e-01]\n",
      " [ 6.90186995e-01 -1.85944987e+00]\n",
      " [-1.24793860e+00  8.43506299e-01]\n",
      " [-1.18288799e+00 -1.94109018e-01]\n",
      " [-2.11081584e+00  4.15666219e-01]\n",
      " [ 1.17615333e+00  8.72709579e-01]\n",
      " [-2.17203994e+00 -1.83135023e+00]\n",
      " [ 9.98220777e-01 -1.88600673e+00]\n",
      " [ 4.47203826e-01 -1.34203894e+00]\n",
      " [ 1.83174871e-01 -1.88600673e+00]\n",
      " [ 5.52432758e-01 -2.57733907e-01]\n",
      " [-7.75365032e-01 -1.44807097e+00]\n",
      " [-2.52981831e+00  4.05598161e-01]\n",
      " [ 2.38659217e-01 -1.37310597e+00]\n",
      " [-1.93736029e-01 -7.69338313e-01]\n",
      " [ 8.56640032e-01  5.39950369e-01]\n",
      " [-8.93986737e-01 -1.84973078e+00]\n",
      " [-6.68222847e-01  4.59365383e-01]\n",
      " [ 1.43444253e+00 -3.90217543e-02]\n",
      " [-8.74854204e-01 -1.88600673e+00]\n",
      " [ 5.23733958e-01 -7.47595204e-01]\n",
      " [-2.22434829e-01 -1.88600673e+00]\n",
      " [-3.54449306e-01 -1.35354598e+00]\n",
      " [-8.78680710e-01  8.72709579e-01]\n",
      " [-1.23071932e+00 -1.43307203e+00]\n",
      " [-1.75877723e+00 -5.30483871e-01]\n",
      " [-1.63441576e+00 -1.88600673e+00]\n",
      " [ 1.48610037e+00  6.44731611e-01]\n",
      " [ 5.42866491e-01  2.24406537e-01]\n",
      " [-1.35508078e+00 -1.88600673e+00]\n",
      " [ 1.16211005e-01  7.21990254e-01]\n",
      " [ 6.25136383e-01  7.11852755e-01]\n",
      " [ 4.83555639e-01 -1.77540572e+00]\n",
      " [-1.86400616e+00 -1.71777555e+00]\n",
      " [-2.00750016e+00 -1.36930224e+00]\n",
      " [ 1.24885696e+00 -4.13472588e-01]\n",
      " [-1.26133137e+00  8.72709579e-01]\n",
      " [-3.71668586e-01  3.10619464e-01]\n",
      " [ 1.56645701e+00 -1.34705791e+00]\n",
      " [-7.58145753e-01  8.72709579e-01]\n",
      " [-2.47433396e+00 -1.67510830e+00]\n",
      " [-1.29003017e+00 -1.88600673e+00]\n",
      " [ 2.00394151e-01 -8.09309943e-01]\n",
      " [-3.96540879e-01 -1.64255226e-01]\n",
      " [-5.68733676e-01 -1.88600673e+00]\n",
      " [ 4.95035159e-01 -1.34063480e+00]\n",
      " [-1.72816518e+00 -1.88600673e+00]\n",
      " [-8.27022871e-01  6.09699030e-01]\n",
      " [-1.02026145e+00 -7.84614219e-01]\n",
      " [ 4.89295399e-01  8.72709579e-01]\n",
      " [-5.76386689e-01 -1.32763623e+00]\n",
      " [-4.97445858e-04 -1.28426137e+00]\n",
      " [ 1.23355093e+00  8.39901435e-01]\n",
      " [-1.64206878e+00 -1.88600673e+00]\n",
      " [ 5.42866491e-01 -1.07210982e+00]\n",
      " [ 4.03199000e-01 -8.21918952e-02]\n",
      " [-1.22497956e+00 -7.23397440e-01]\n",
      " [-1.78364952e+00 -1.88600673e+00]\n",
      " [-1.22945657e-01 -1.75391654e+00]\n",
      " [ 9.63782217e-01  5.10914752e-01]\n",
      " [-1.15292644e-01 -1.88600673e+00]\n",
      " [-1.59297470e-01 -6.16573193e-01]\n",
      " [-1.66502782e+00  4.98057748e-02]\n",
      " [-1.84487363e+00 -1.78477039e+00]\n",
      " [ 8.17724460e-02  8.72709579e-01]\n",
      " [ 4.20418280e-01 -1.88600673e+00]\n",
      " [-9.83909642e-01  8.55478119e-02]\n",
      " [-1.16566871e+00  2.95355988e-01]\n",
      " [-1.28237716e+00 -6.04963776e-01]\n",
      " [ 1.67868845e-01 -1.88600673e+00]\n",
      " [-6.68222847e-01 -5.76487940e-01]\n",
      " [-3.14971238e+00 -1.88600673e+00]\n",
      " [-7.48579486e-01  8.72709579e-01]\n",
      " [-1.96299789e-02 -4.06021367e-01]\n",
      " [-9.68603615e-01 -1.59229215e+00]\n",
      " [-2.15673391e+00  9.06160063e-02]\n",
      " [ 2.12130046e+00  8.72709579e-01]\n",
      " [-1.60763022e+00 -6.11703339e-01]\n",
      " [ 2.31006203e-01  1.94035709e-01]\n",
      " [-1.03813124e-01 -1.01488470e+00]\n",
      " [-2.49537975e+00 -1.05942005e+00]\n",
      " [-1.04130724e+00 -9.98187855e-01]\n",
      " [-2.34564855e-02  3.80437752e-01]\n",
      " [-9.80083135e-01 -1.41713180e+00]\n",
      " [ 6.67227956e-01 -1.88600673e+00]\n",
      " [-5.61080663e-01 -1.32272079e+00]\n",
      " [-2.08403029e+00 -1.88600673e+00]\n",
      " [-1.24219884e+00 -1.35621056e+00]\n",
      " [-1.25176510e+00  4.51003621e-01]\n",
      " [-1.77167256e-02 -8.49778431e-01]\n",
      " [-1.21732654e+00  1.21512488e-01]\n",
      " [-1.22689281e+00 -1.88600673e+00]\n",
      " [-1.68863736e-01 -1.88600673e+00]\n",
      " [-2.27918213e+00  3.31845188e-01]\n",
      " [-3.31490267e-01 -7.38433841e-01]\n",
      " [ 2.62881003e-02 -4.98615280e-01]\n",
      " [-5.05596317e-01  8.72709579e-01]\n",
      " [-2.59486892e+00 -1.65980539e+00]\n",
      " [ 3.82153214e-01 -1.88600673e+00]\n",
      " [-8.46805910e-02  3.19773469e-01]\n",
      " [ 1.94654391e-01 -2.37135320e-01]\n",
      " [ 7.85849660e-01 -1.18105058e+00]\n",
      " [ 5.08427932e-01 -1.30431468e+00]\n",
      " [-2.30596767e+00  8.72709579e-01]\n",
      " [-1.34425177e-01  8.72709579e-01]\n",
      " [-9.78169882e-01  8.72709579e-01]\n",
      " [-1.96299789e-02 -8.90197194e-01]\n",
      " [-1.57701816e+00 -9.92977316e-01]\n",
      " [-1.81043507e+00 -3.21961574e-01]\n",
      " [-2.67713881e+00  8.72709579e-01]\n",
      " [-1.39908561e+00 -6.37898001e-01]\n",
      " [ 7.22061795e-02 -1.17990182e+00]\n",
      " [ 1.38087144e+00  8.72709579e-01]\n",
      " [ 1.53584495e+00  1.28238846e-01]\n",
      " [ 1.83174871e-01  5.40247820e-01]\n",
      " [-4.53938478e-01  8.39434194e-03]\n",
      " [-1.36338430e-01 -1.44267485e-01]\n",
      " [-1.04896025e+00  1.49193860e-01]\n",
      " [ 1.81261618e-01 -1.40558522e+00]\n",
      " [-7.52405993e-01 -6.85780808e-01]\n",
      " [-1.03748073e+00  8.72709579e-01]\n",
      " [-4.29066185e-01  7.13579829e-01]\n",
      " [-2.59104241e+00 -8.34431526e-01]\n",
      " [ 5.40953238e-01 -1.88600673e+00]\n",
      " [-1.63632902e+00 -1.88600673e+00]\n",
      " [-8.55721671e-01 -1.76071301e+00]\n",
      " [ 9.04471365e-01  7.41612777e-02]\n",
      " [ 2.71184523e-01  5.46783344e-01]\n",
      " [-2.16630018e+00 -2.35237127e-01]\n",
      " [ 1.90827884e-01 -1.88600673e+00]\n",
      " [-1.46987598e+00  6.20943885e-01]\n",
      " [-1.32638198e+00 -1.48531765e+00]\n",
      " [-1.12740364e+00  8.72709579e-01]\n",
      " [-1.56362539e+00 -3.61197118e-01]\n",
      " [-1.69755312e+00  8.72709579e-01]\n",
      " [-5.62993916e-01 -6.83741716e-01]\n",
      " [-1.31872897e+00 -1.88600673e+00]\n",
      " [-1.46796273e+00  8.72709579e-01]\n",
      " [ 2.34832710e-01 -1.88600673e+00]\n",
      " [-1.71285915e+00  2.33558778e-01]\n",
      " [ 7.03579768e-01  2.84460407e-02]\n",
      " [-9.41818069e-01  3.72364314e-01]\n",
      " [-6.45263808e-01  6.52401007e-01]\n",
      " [ 7.78196647e-01 -6.91202447e-01]\n",
      " [-9.18859030e-01 -1.88600673e+00]\n",
      " [-5.99345729e-01  4.72873139e-01]\n",
      " [-3.62102319e-01 -7.92577050e-01]\n",
      " [-2.16056042e+00  8.72709579e-01]\n",
      " [-8.74854204e-01  8.72709579e-01]\n",
      " [-1.09552884e-01  8.72709579e-01]\n",
      " [-2.23326405e+00 -7.93574522e-02]\n",
      " [ 1.81261618e-01  8.72709579e-01]\n",
      " [-1.03813124e-01 -1.63854498e+00]\n",
      " [ 2.25266444e-01  4.90687428e-01]\n",
      " [-8.19369858e-01 -1.88600673e+00]\n",
      " [ 1.41580744e-03 -1.19051715e+00]\n",
      " [-2.57573639e+00 -1.78193346e+00]\n",
      " [-1.28620366e+00 -1.29341791e+00]\n",
      " [-1.20393377e+00 -1.88600673e+00]\n",
      " [-5.87866209e-01  5.47659459e-01]\n",
      " [-1.67076758e+00 -7.05614607e-01]\n",
      " [-5.41948130e-01  8.72709579e-01]\n",
      " [-1.78364952e+00 -1.45693408e+00]\n",
      " [-5.53427649e-01 -2.62059437e-01]\n",
      " [-6.16565008e-01 -1.88600673e+00]\n",
      " [ 4.35724306e-01 -1.88600673e+00]\n",
      " [ 4.08938760e-01 -1.10664289e+00]\n",
      " [-4.82637277e-01 -6.28026978e-01]\n",
      " [ 1.33495336e+00 -1.88600673e+00]\n",
      " [-1.29194342e+00  8.72709579e-01]\n",
      " [-5.97432475e-01 -1.64379080e+00]\n",
      " [-1.74603496e-01  8.72709579e-01]\n",
      " [-2.03302296e-01 -3.59353212e-02]\n",
      " [-3.11094987e-02 -1.88600673e+00]\n",
      " [-1.26772164e-01  7.56620078e-01]\n",
      " [ 1.31517032e-01 -1.52998457e+00]\n",
      " [-2.07128802e-01 -1.88600673e+00]\n",
      " [-3.60189066e-01  8.72709579e-01]\n",
      " [-7.35186713e-01 -1.88600673e+00]\n",
      " [ 5.04601425e-01 -3.98106899e-01]\n",
      " [-7.37099966e-01 -1.88600673e+00]\n",
      " [-2.85572188e-01 -1.88600673e+00]\n",
      " [-6.12738502e-01  3.26374474e-01]\n",
      " [-7.31360206e-01  3.15080234e-01]\n",
      " [ 2.15700177e-01 -7.52448475e-01]\n",
      " [-2.18543271e+00 -6.59354462e-02]\n",
      " [-5.91692715e-01 -1.44983739e+00]\n",
      " [-1.05852652e+00 -1.88600673e+00]\n",
      " [-1.27663740e+00  8.72709579e-01]\n",
      " [-4.46285465e-01 -1.57683182e-02]\n",
      " [-1.25367836e+00  8.72709579e-01]\n",
      " [-4.11846905e-01  8.72709579e-01]\n",
      " [-1.91949051e+00  8.72709579e-01]\n",
      " [-1.31298921e+00 -6.93356352e-01]\n",
      " [ 3.43888148e-01 -9.31265903e-01]\n",
      " [-7.40926473e-01 -5.37144370e-01]\n",
      " [-2.35827602e-01  2.57003610e-01]\n",
      " [-1.59232419e+00 -1.00029977e+00]\n",
      " [-1.51388081e+00 -1.88600673e+00]\n",
      " [-6.89268634e-01  8.72709579e-01]\n",
      " [ 3.53454415e-01 -4.99427097e-01]\n",
      " [-2.38058455e+00 -1.88600673e+00]\n",
      " [ 5.24231404e-03 -7.12601856e-01]\n",
      " [-1.58658443e+00 -1.88600673e+00]\n",
      " [-1.09296508e+00  8.72709579e-01]\n",
      " [-1.68863736e-01  8.72709579e-01]\n",
      " [-9.68603615e-01 -1.88600673e+00]\n",
      " [ 3.26668868e-01 -1.88600673e+00]\n",
      " [ 9.46562937e-01  5.63640304e-01]\n",
      " [-7.08401167e-01 -4.63485928e-01]\n",
      " [-6.75875861e-01  1.96307896e-01]\n",
      " [-2.17395319e+00 -5.44594192e-01]\n",
      " [-2.56873388e-01 -1.83660328e+00]\n",
      " [ 1.27690525e-01 -1.24986848e+00]\n",
      " [-8.80593964e-01  8.72709579e-01]\n",
      " [ 1.48736312e-01 -3.70411533e-01]\n",
      " [ 9.40823178e-01  2.90116317e-01]\n",
      " [-1.01260844e+00 -9.04865594e-01]\n",
      " [-6.43350555e-01 -1.88600673e+00]\n",
      " [-7.73451779e-01 -1.03495377e+00]\n",
      " [ 1.60215831e-01  8.72709579e-01]\n",
      " [-1.13379391e-01  5.94419894e-02]\n",
      " [-2.23135079e+00 -1.60314871e+00]\n",
      " [ 2.82013536e-02  1.30988957e-01]\n",
      " [-5.61080663e-01 -8.48948743e-02]\n",
      " [-1.23071932e+00 -4.41747936e-01]\n",
      " [ 8.75772565e-01 -6.79753633e-01]\n",
      " [ 5.12254438e-01  8.72709579e-01]\n",
      " [ 5.49868998e-02 -4.17687652e-01]\n",
      " [-2.39971708e+00 -4.58719319e-01]\n",
      " [ 1.54476071e-01  3.72510855e-01]\n",
      " [-1.26772164e-01 -1.88600673e+00]\n",
      " [-5.95519222e-01  8.72709579e-01]\n",
      " [-2.95138454e-01 -1.36394488e+00]\n",
      " [-2.74092668e-01  3.15298756e-01]\n",
      " [-9.23336042e-02 -1.68630065e-01]\n",
      " [-4.73071011e-01 -8.59476110e-01]\n",
      " [-3.12357734e-01 -1.32578258e+00]\n",
      " [ 1.07092440e+00  8.07066107e-01]\n",
      " [-1.11209761e+00 -4.70690445e-02]\n",
      " [-6.12738502e-01 -1.54328111e+00]\n",
      " [ 2.78837536e-01  2.23403438e-01]\n",
      " [ 3.97459240e-01 -1.68302462e+00]\n",
      " [-2.77919174e-01  8.72709579e-01]\n",
      " [ 1.30051480e+00 -9.37986805e-01]\n",
      " [-2.27535562e+00 -7.38584487e-01]\n",
      " [-8.53808418e-01 -1.88600673e+00]\n",
      " [-1.27281089e+00 -1.57137826e+00]\n",
      " [ 4.96948412e-01 -1.88600673e+00]\n",
      " [-8.72940950e-01  3.77781620e-02]\n",
      " [-2.58786641e-01  8.72709579e-01]\n",
      " [ 5.21820705e-01 -2.31385462e-01]\n",
      " [-7.29446953e-01 -8.39181318e-01]\n",
      " [-1.28046390e+00  7.97477905e-01]\n",
      " [-7.67712019e-01 -1.54277812e+00]\n",
      " [ 1.52819194e+00 -1.91821566e-01]\n",
      " [ 2.31006203e-01 -1.88600673e+00]\n",
      " [ 1.17232683e+00 -9.43491761e-02]\n",
      " [-6.43350555e-01  6.41039559e-02]\n",
      " [ 3.68760441e-01  8.72709579e-01]\n",
      " [-8.23196365e-01 -1.88600673e+00]\n",
      " [-8.19369858e-01  2.98812296e-01]\n",
      " [ 3.09449589e-01  7.45902322e-01]\n",
      " [-5.22815597e-01  7.15367100e-01]]\n"
     ]
    }
   ],
   "source": [
    "# Vaš kôd ovdje\n",
    "print(grades_X_fixed)\n",
    "grades_X_fixed_colinear = grades_X_fixed\n",
    "grades_X_fixed_colinear[2] = grades_X_fixed[1]\n",
    "print(grades_X_fixed_colinear)"
   ]
  },
  {
   "cell_type": "markdown",
   "metadata": {},
   "source": [
    "Ponovno, naučite na ovom skupu L2-regularizirani model regresije ($\\lambda = 0.01$)."
   ]
  },
  {
   "cell_type": "code",
   "execution_count": null,
   "metadata": {
    "collapsed": true
   },
   "outputs": [],
   "source": [
    "# Vaš kôd ovdje"
   ]
  },
  {
   "cell_type": "markdown",
   "metadata": {},
   "source": [
    "**Q:** Usporedite iznose težina s onima koje ste dobili u zadatku *7b*. Što se dogodilo?"
   ]
  },
  {
   "cell_type": "markdown",
   "metadata": {},
   "source": [
    "### b)"
   ]
  },
  {
   "cell_type": "markdown",
   "metadata": {},
   "source": [
    "Slučajno uzorkujte 50% elemenata iz skupa `grades_X_fixed_colinear` i naučite dva modela L2-regularizirane regresije, jedan s $\\lambda=0.01$ i jedan s $\\lambda=1000$). Ponovite ovaj pokus 10 puta (svaki put s drugim podskupom od 50% elemenata).  Za svaki model, ispišite dobiveni vektor težina u svih 10 ponavljanja te ispišite standardnu devijaciju vrijednosti svake od težina (ukupno šest standardnih devijacija, svaka dobivena nad 10 vrijednosti)."
   ]
  },
  {
   "cell_type": "code",
   "execution_count": null,
   "metadata": {
    "collapsed": true
   },
   "outputs": [],
   "source": [
    "# Vaš kôd ovdje"
   ]
  },
  {
   "cell_type": "markdown",
   "metadata": {},
   "source": [
    "**Q:** Kako regularizacija utječe na stabilnost težina?  \n",
    "**Q:** Jesu li koeficijenti jednakih magnituda kao u prethodnom pokusu? Objasnite zašto."
   ]
  }
 ],
 "metadata": {
  "anaconda-cloud": {},
  "kernelspec": {
   "display_name": "Python 3 (ipykernel)",
   "language": "python",
   "name": "python3"
  },
  "language_info": {
   "codemirror_mode": {
    "name": "ipython",
    "version": 3
   },
   "file_extension": ".py",
   "mimetype": "text/x-python",
   "name": "python",
   "nbconvert_exporter": "python",
   "pygments_lexer": "ipython3",
   "version": "3.9.7"
  }
 },
 "nbformat": 4,
 "nbformat_minor": 4
}
